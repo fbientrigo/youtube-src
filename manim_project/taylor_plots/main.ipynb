{
 "cells": [
  {
   "cell_type": "code",
   "execution_count": 3,
   "metadata": {},
   "outputs": [],
   "source": [
    "import numpy as np\n",
    "import matplotlib.pyplot as plt\n"
   ]
  },
  {
   "cell_type": "code",
   "execution_count": 5,
   "metadata": {},
   "outputs": [],
   "source": [
    "x = np.linspace(-5, 5, 200)\n",
    "\n",
    "# Define las funciones\n",
    "def sin(x):\n",
    "    return np.sin(x)\n",
    "\n",
    "def cos(x):\n",
    "    return np.cos(x)\n",
    "\n",
    "def exp(x):\n",
    "    return np.exp(x)\n",
    "\n",
    "def f1(x):\n",
    "    return 1 / (1 + x)\n",
    "\n",
    "def f2(x):\n",
    "    return 1 / (1 - x)"
   ]
  },
  {
   "cell_type": "code",
   "execution_count": 6,
   "metadata": {},
   "outputs": [],
   "source": [
    "\n",
    "# Define la función para la serie de Taylor\n",
    "def taylor_series(x, n):\n",
    "    result = 0\n",
    "    for i in range(n):\n",
    "        if i % 2 == 0:\n",
    "            result += x**(2*i) / np.math.factorial(2*i)\n",
    "        else:\n",
    "            result -= x**(2*i) / np.math.factorial(2*i)\n",
    "    return result"
   ]
  },
  {
   "attachments": {},
   "cell_type": "markdown",
   "metadata": {},
   "source": [
    "### plots\n",
    "trigonometricas"
   ]
  },
  {
   "cell_type": "code",
   "execution_count": null,
   "metadata": {},
   "outputs": [],
   "source": [
    "# Crea la figura y los ejes\n",
    "fig, ax = plt.subplots()\n",
    "\n",
    "# Grafica las funciones\n",
    "ax.plot(x, sin(x), label='sin(x)')\n",
    "ax.plot(x, cos(x), label='cos(x)')\n",
    "ax.plot(x, exp(x), label='exp(x)')\n",
    "ax.plot(x, f1(x), label='1 / (1 + x)')\n",
    "ax.plot(x, f2(x), label='1 / (1 - x)')\n",
    "\n",
    "# Grafica la serie de Taylor\n",
    "for i in range(1, 6):\n",
    "    taylor_y = [taylor_series(xi, i) for xi in taylor_x]\n",
    "    ax.plot(x, taylor_y, label=f'Taylor {i}')\n",
    "\n",
    "# Configura la leyenda y el título\n",
    "ax.legend()\n",
    "ax.set_title('Funciones y serie de Taylor')\n"
   ]
  }
 ],
 "metadata": {
  "kernelspec": {
   "display_name": "base",
   "language": "python",
   "name": "python3"
  },
  "language_info": {
   "codemirror_mode": {
    "name": "ipython",
    "version": 3
   },
   "file_extension": ".py",
   "mimetype": "text/x-python",
   "name": "python",
   "nbconvert_exporter": "python",
   "pygments_lexer": "ipython3",
   "version": "3.9.13"
  },
  "orig_nbformat": 4,
  "vscode": {
   "interpreter": {
    "hash": "ad2bdc8ecc057115af97d19610ffacc2b4e99fae6737bb82f5d7fb13d2f2c186"
   }
  }
 },
 "nbformat": 4,
 "nbformat_minor": 2
}
