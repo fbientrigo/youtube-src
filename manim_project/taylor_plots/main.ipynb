{
 "cells": [
  {
   "cell_type": "code",
   "execution_count": 71,
   "metadata": {},
   "outputs": [],
   "source": [
    "import numpy as np\n",
    "import matplotlib.pyplot as plt\n",
    "import sympy as sp\n",
    "import os"
   ]
  },
  {
   "cell_type": "code",
   "execution_count": 85,
   "metadata": {},
   "outputs": [],
   "source": [
    "x = np.linspace(-5, 5, 200)\n",
    "\n",
    "# max number of expansion\n",
    "N = 10\n",
    "\n",
    "# Define las funciones\n",
    "def sin(x):\n",
    "    return np.sin(x)\n",
    "# taylor expansion del seno\n",
    "sin_series = [(-1)**n * x**(2*n+1) / sp.gamma(2*n + 2) for n in range(0,N)]\n",
    "\n",
    "def cos(x):\n",
    "    return np.cos(x)\n",
    "#taylor expansion del coseno\n",
    "cos_series = [(-1)**n * x**(2*n) / sp.gamma(2*n + 1) for n in range(0,N)]\n",
    "\n",
    "def exp(x):\n",
    "    return np.exp(x)\n",
    "#taylor expansion de la exponencial\n",
    "exp_series = [x**(n) / sp.gamma(n + 1) for n in range(0,N)]\n",
    "\n",
    "def exp_to_minus(x):\n",
    "    return np.exp(-x)\n",
    "#taylor expansion de la exponencial e^{-x}\n",
    "exp_to_minus_series_lambda = lambda x: [(-1)**n * x**(n) / sp.gamma(n + 1) for n in range(0,N)]\n",
    "\n",
    "def f1(x):\n",
    "    return 1 / (1 - x)\n",
    "#taylor expansion \n",
    "f1_series = [x**(n) for n in range(0,N)]\n",
    "\n",
    "def f2(x):\n",
    "    return 1 / (1 + x)\n",
    "#taylor expansion \n",
    "f2_series = [(-1)**n * x**(n) for n in range(0,N)]\n"
   ]
  },
  {
   "cell_type": "code",
   "execution_count": 73,
   "metadata": {},
   "outputs": [],
   "source": [
    "\n",
    "# Define la función para la serie de Taylor\n",
    "def plot_taylor_series(x, function, function_series, name_for_saving, title, y_lim = [-2,2]):\n",
    "    # Seccion de Iteración =================\n",
    "    N = len(function_series)\n",
    "    os.mkdir(name_for_saving)\n",
    "    for n in range(N):\n",
    "        # Graficos dentro de cada Iteración ====\n",
    "        fig, ax = plt.subplots(figsize=(16,9))\n",
    "        ax.set_ylim(y_lim[0], y_lim[1])\n",
    "        ax.plot(x, function(x), label=\"funcion\")\n",
    "        plt.title(title)\n",
    "        plt.xlabel(r\"$x$\")\n",
    "        # grafica la suma de las series de taylor hasta el coeficiente n\n",
    "        ax.plot( x, np.sum(function_series[:n+1], axis=0), label=f\"taylor hasta {n+1} termino\")\n",
    "        plt.plot()\n",
    "        plt.savefig(f\"{name_for_saving}/{name_for_saving}_{n}.png\")"
   ]
  },
  {
   "attachments": {},
   "cell_type": "markdown",
   "metadata": {},
   "source": [
    "# plots\n",
    "trigonometricas"
   ]
  },
  {
   "cell_type": "code",
   "execution_count": null,
   "metadata": {},
   "outputs": [],
   "source": [
    "plot_taylor_series(x, sin, sin_series, \"sin\", r\"$\\sin x$\", y_lim = [-2,2]);"
   ]
  },
  {
   "cell_type": "code",
   "execution_count": null,
   "metadata": {},
   "outputs": [],
   "source": [
    "plot_taylor_series(x, cos, cos_series, \"cos\", r\"$\\cos x$\", y_lim = [-2,2])"
   ]
  },
  {
   "attachments": {},
   "cell_type": "markdown",
   "metadata": {},
   "source": [
    "exponenciales"
   ]
  },
  {
   "cell_type": "code",
   "execution_count": null,
   "metadata": {},
   "outputs": [],
   "source": [
    "plot_taylor_series(x, exp, exp_series, \"exp\", r\"$e^x$\", y_lim = [-1,6])"
   ]
  },
  {
   "cell_type": "code",
   "execution_count": null,
   "metadata": {},
   "outputs": [],
   "source": [
    "# para actualizar los limites prove un approach distinto\n",
    "# queda muy bien para motivos didactivos\n",
    "x2 = np.linspace(-1, 10, 100)\n",
    "exponential_minus_series = exp_to_minus_series_lambda(x2)\n",
    "plot_taylor_series(x2, exp_to_minus, exponential_minus_series, \"exp_to_minus\", r\"$e^{-x}$\", y_lim = [-2,1])"
   ]
  },
  {
   "attachments": {},
   "cell_type": "markdown",
   "metadata": {},
   "source": [
    "funciones racionales"
   ]
  },
  {
   "cell_type": "code",
   "execution_count": null,
   "metadata": {},
   "outputs": [],
   "source": []
  }
 ],
 "metadata": {
  "kernelspec": {
   "display_name": "base",
   "language": "python",
   "name": "python3"
  },
  "language_info": {
   "codemirror_mode": {
    "name": "ipython",
    "version": 3
   },
   "file_extension": ".py",
   "mimetype": "text/x-python",
   "name": "python",
   "nbconvert_exporter": "python",
   "pygments_lexer": "ipython3",
   "version": "3.9.13"
  },
  "orig_nbformat": 4,
  "vscode": {
   "interpreter": {
    "hash": "ad2bdc8ecc057115af97d19610ffacc2b4e99fae6737bb82f5d7fb13d2f2c186"
   }
  }
 },
 "nbformat": 4,
 "nbformat_minor": 2
}
