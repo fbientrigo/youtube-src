{
 "cells": [
  {
   "attachments": {},
   "cell_type": "markdown",
   "metadata": {},
   "source": [
    "# the path\n",
    "aqui es donde voy dejando las ideas correctas o desarrolladas para construir la libreria de brakets, hecha en python pues es de los lenguajes mas populares y sera más facil conseguir que gente apoye el proyecto"
   ]
  },
  {
   "attachments": {},
   "cell_type": "markdown",
   "metadata": {},
   "source": [
    "## la funcion\n",
    "comenzaremos con una funcion la cual muchas veces sera algo de la forma hypergeometrica \n",
    "```\n",
    "hyper([a],[],x)\n",
    "```\n",
    "\n",
    "multiplicada a otros factores, extraeremos los parametros y los prefactores.\n",
    "\n",
    "los parametros seran los pochhammer y las funciones gamma, en sympy llamados \n",
    "```\n",
    "RisingFactorial(x,n)\n",
    "gamma(x)\n",
    "```"
   ]
  },
  {
   "cell_type": "code",
   "execution_count": 2,
   "metadata": {},
   "outputs": [
    {
     "data": {
      "image/png": "[encoded data removed]",
      "text/latex": [
       "$\\displaystyle {{}_{1}F_{0}\\left(\\begin{matrix} 2 \\\\  \\end{matrix}\\middle| {x} \\right)}$"
      ],
      "text/plain": [
       " ┌─  ⎛2 │  ⎞\n",
       " ├─  ⎜  │ x⎟\n",
       "1╵ 0 ⎝  │  ⎠"
      ]
     },
     "execution_count": 2,
     "metadata": {},
     "output_type": "execute_result"
    }
   ],
   "source": [
    "from sympy import *\n",
    "__MAX__ = symbols('__MAX__')\n",
    "__MAX__ = 4\n",
    "init_printing()\n",
    "\n",
    "x = symbols('x')\n",
    "k_list = [symbols('k{}'.format(i)) for i in range(1, int(__MAX__)+1)]\n",
    "\n",
    "#=========================================================\n",
    "\n",
    "a = 2\n",
    "rational_hyper = hyper([a], [], x)\n",
    "rational_hyper\n"
   ]
  },
  {
   "cell_type": "code",
   "execution_count": 4,
   "metadata": {},
   "outputs": [
    {
     "data": {
      "image/png": "[encoded data removed]",
      "text/latex": [
       "$\\displaystyle \\frac{1}{\\left(1 - x\\right)^{2}}$"
      ],
      "text/plain": [
       "   1    \n",
       "────────\n",
       "       2\n",
       "(1 - x) "
      ]
     },
     "execution_count": 4,
     "metadata": {},
     "output_type": "execute_result"
    }
   ],
   "source": [
    "hyperexpand( rational_hyper )"
   ]
  },
  {
   "cell_type": "code",
   "execution_count": 8,
   "metadata": {},
   "outputs": [
    {
     "data": {
      "image/png": "[encoded data removed]",
      "text/latex": [
       "$\\displaystyle \\left\\{x\\right\\}$"
      ],
      "text/plain": [
       "{x}"
      ]
     },
     "execution_count": 8,
     "metadata": {},
     "output_type": "execute_result"
    }
   ],
   "source": [
    "rational_hyper.free_symbols #simbolos libres sin un valor especifico"
   ]
  },
  {
   "cell_type": "code",
   "execution_count": 6,
   "metadata": {},
   "outputs": [
    {
     "data": {
      "image/png": "[encoded data removed]",
      "text/latex": [
       "$\\displaystyle \\Gamma\\left(x\\right)$"
      ],
      "text/plain": [
       "Γ(x)"
      ]
     },
     "execution_count": 6,
     "metadata": {},
     "output_type": "execute_result"
    }
   ],
   "source": [
    "gamma(x)"
   ]
  },
  {
   "cell_type": "code",
   "execution_count": 9,
   "metadata": {},
   "outputs": [
    {
     "data": {
      "image/png": "[encoded data removed]",
      "text/latex": [
       "$\\displaystyle {2}^{\\left(k_{1}\\right)}$"
      ],
      "text/plain": [
       "RisingFactorial(2, k₁)"
      ]
     },
     "execution_count": 9,
     "metadata": {},
     "output_type": "execute_result"
    }
   ],
   "source": [
    "RisingFactorial(a, k_list[0])"
   ]
  },
  {
   "attachments": {},
   "cell_type": "markdown",
   "metadata": {},
   "source": [
    "## extraer parametros\n",
    "part"
   ]
  },
  {
   "cell_type": "code",
   "execution_count": 3,
   "metadata": {},
   "outputs": [
    {
     "name": "stdout",
     "output_type": "stream",
     "text": [
      "Hypergeometric parameters: [(2,), (1,), x]\n",
      "Rising factorials: [RisingFactorial(2, k), factorial(k)]\n",
      "Gamma functions: [gamma(x)]\n"
     ]
    }
   ],
   "source": [
    "import sympy as sp\n",
    "\n",
    "x = sp.symbols('x')\n",
    "\n",
    "# Define a rational hypergeometric expression\n",
    "rational_hyper = sp.hyper([2], [1], x) * sp.gamma(x)\n",
    "\n",
    "\n",
    "# require the k symbol to be defined\n",
    "k = sp.symbols('k')\n",
    "# Define a function to extract the hypergeometric parameters\n",
    "def ExtractHypergeometricParameters(f):\n",
    "    hyper_params = []\n",
    "    rising_factorials = []\n",
    "    gamma_functions = []\n",
    "\n",
    "    for arg in f.args:\n",
    "        if isinstance(arg, sp.gamma):\n",
    "            gamma_functions.append(arg)\n",
    "        elif isinstance(arg, sp.hyper):\n",
    "            hyper_args = arg.args\n",
    "            a = hyper_args[0]\n",
    "            b = hyper_args[1]\n",
    "            z = hyper_args[2]\n",
    "            hyper_params.append(a)\n",
    "            hyper_params.append(b)\n",
    "            hyper_params.append(z)\n",
    "            for i in range(len(a)):\n",
    "                rising_factorials.append(sp.RisingFactorial(a[i], k))\n",
    "            for i in range(len(b)):\n",
    "                rising_factorials.append(sp.RisingFactorial(b[i], k))\n",
    "\n",
    "    return hyper_params, rising_factorials, gamma_functions\n",
    "\n",
    "# Extract hypergeometric parameters, rising factorials, and gamma functions\n",
    "params, rf, gamma = ExtractHypergeometricParameters(rational_hyper)\n",
    "\n",
    "# Print the results\n",
    "print(\"Hypergeometric parameters:\", params)\n",
    "print(\"Rising factorials:\", rf)\n",
    "print(\"Gamma functions:\", gamma)"
   ]
  },
  {
   "cell_type": "code",
   "execution_count": 5,
   "metadata": {},
   "outputs": [
    {
     "data": {
      "text/plain": [
       "([(2,), (1,), x], [RisingFactorial(2, k), factorial(k)], [gamma(x)])"
      ]
     },
     "execution_count": 5,
     "metadata": {},
     "output_type": "execute_result"
    }
   ],
   "source": [
    "ExtractHypergeometricParameters(rational_hyper)"
   ]
  },
  {
   "cell_type": "code",
   "execution_count": null,
   "metadata": {},
   "outputs": [],
   "source": []
  }
 ],
 "metadata": {
  "kernelspec": {
   "display_name": "base",
   "language": "python",
   "name": "python3"
  },
  "language_info": {
   "codemirror_mode": {
    "name": "ipython",
    "version": 3
   },
   "file_extension": ".py",
   "mimetype": "text/x-python",
   "name": "python",
   "nbconvert_exporter": "python",
   "pygments_lexer": "ipython3",
   "version": "3.9.13"
  },
  "orig_nbformat": 4,
  "vscode": {
   "interpreter": {
    "hash": "ad2bdc8ecc057115af97d19610ffacc2b4e99fae6737bb82f5d7fb13d2f2c186"
   }
  }
 },
 "nbformat": 4,
 "nbformat_minor": 2
}
