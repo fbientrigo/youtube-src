{
 "cells": [
  {
   "attachments": {},
   "cell_type": "markdown",
   "metadata": {},
   "source": [
    "$$ \n",
    "S = \\sum_{k_1 =0}^\\infty \\frac{(-1)^{k_1}}{(k_1)!} \\int_0^\\infty x^{k_1 + 2 - 1} dx\n",
    "$$\n",
    "\n",
    "The braket is $\\int_0^\\infty x^{k_1 + 2 - 1} dx$ we replace it by a function called braket $ \\braket{k_1+2} $, having this structure, we solve for when the inside of the braket is equal to 0: $k_1 = -2$\n",
    "\n",
    "By rule the sum gets cancelled and the $\\frac{(-1)^{k_1}}{(k_1)!}$ gets replaced by a gamma function $\\Gamma(-k_1)$ \n",
    "\n",
    "Then we use the equation from inside the braket to replace every $k_1 = -2 $\n",
    "\n",
    "$$\n",
    "S = \\sum_{k_1 =0}^\\infty \\frac{(-1)^{k_1}}{(k_1)!} \\int_0^\\infty x^{k_1 + 2 - 1} dx = \\Gamma(-k_1) |_{k_1 = -2} = \\Gamma(2)\n",
    "$$"
   ]
  },
  {
   "cell_type": "code",
   "execution_count": 3,
   "metadata": {},
   "outputs": [],
   "source": [
    "import sympy as sp\n",
    "x = sp.symbols('x')"
   ]
  },
  {
   "cell_type": "code",
   "execution_count": 2,
   "metadata": {},
   "outputs": [],
   "source": [
    "# library\n",
    "def replace_expressions(expr, replacements):\n",
    "    symbols = {}\n",
    "    for r in replacements:\n",
    "        sym = sp.symbols(f\"h_{hash(r)}\")\n",
    "        symbols[sym] = r\n",
    "        expr = expr.subs(r, sym)\n",
    "    return expr, symbols\n",
    "\n",
    "def restore_expressions(expr, symbols):\n",
    "    for sym, r in symbols.items():\n",
    "        expr = expr.subs(sym, r)\n",
    "    return expr\n"
   ]
  },
  {
   "attachments": {},
   "cell_type": "markdown",
   "metadata": {},
   "source": [
    "### Version simple del codigo de brakets\n"
   ]
  },
  {
   "cell_type": "code",
   "execution_count": 28,
   "metadata": {},
   "outputs": [
    {
     "data": {
      "text/latex": [
       "$\\displaystyle \\sum_{k_{1}=0}^{\\infty} \\frac{\\left(-1\\right)^{k_{1}} \\int\\limits_{0}^{\\infty} x^{k_{1} + 1}\\, dx}{k_{1}!}$"
      ],
      "text/plain": [
       "Sum((-1)**k1*Integral(x**(k1 + 1), (x, 0, oo))/factorial(k1), (k1, 0, oo))"
      ]
     },
     "execution_count": 28,
     "metadata": {},
     "output_type": "execute_result"
    }
   ],
   "source": [
    "# programando en codigo:\n",
    "k1 = sp.Symbol('k1', integer=True, positive=True)\n",
    "S = sp.Sum((-1)**k1/sp.factorial(k1) * sp.Integral(x**(k1+2-1), (x, 0, sp.oo)), (k1, 0, sp.oo))\n",
    "S"
   ]
  },
  {
   "cell_type": "code",
   "execution_count": 29,
   "metadata": {},
   "outputs": [
    {
     "data": {
      "text/latex": [
       "$\\displaystyle \\int\\limits_{0}^{\\infty} x^{k_{1} + 1}\\, dx$"
      ],
      "text/plain": [
       "Integral(x**(k1 + 1), (x, 0, oo))"
      ]
     },
     "execution_count": 29,
     "metadata": {},
     "output_type": "execute_result"
    }
   ],
   "source": [
    "braket = sp.Integral(x**(k1+2-1), (x, 0, sp.oo))\n",
    "braket"
   ]
  },
  {
   "cell_type": "code",
   "execution_count": 30,
   "metadata": {},
   "outputs": [
    {
     "data": {
      "text/plain": [
       "{h_-7084901934408420925: Integral(x**(k1 + 1), (x, 0, oo))}"
      ]
     },
     "execution_count": 30,
     "metadata": {},
     "output_type": "execute_result"
    }
   ],
   "source": [
    "S_new, symbols = replace_expressions(S, [braket])\n",
    "symbols"
   ]
  },
  {
   "cell_type": "code",
   "execution_count": 33,
   "metadata": {},
   "outputs": [
    {
     "name": "stdout",
     "output_type": "stream",
     "text": [
      "Sum((-1)**k1*Integral(x**(k1 + 1), (x, 0, oo))/factorial(k1), (k1, 0, oo))\n"
     ]
    }
   ],
   "source": [
    "print(S.subs(braket, 1))"
   ]
  },
  {
   "cell_type": "code",
   "execution_count": 34,
   "metadata": {},
   "outputs": [
    {
     "data": {
      "text/latex": [
       "$\\displaystyle \\sum_{k_{1}=0}^{\\infty} \\frac{\\left(-1\\right)^{k_{1}} \\int\\limits_{0}^{\\infty} x^{k_{1} + 1}\\, dx}{k_{1}!}$"
      ],
      "text/plain": [
       "Sum((-1)**k1*Integral(x**(k1 + 1), (x, 0, oo))/factorial(k1), (k1, 0, oo))"
      ]
     },
     "execution_count": 34,
     "metadata": {},
     "output_type": "execute_result"
    }
   ],
   "source": [
    "S.subs(sp.Integral(x**(k1+2-1), (x, 0, sp.oo)), braket)"
   ]
  },
  {
   "cell_type": "code",
   "execution_count": 31,
   "metadata": {},
   "outputs": [
    {
     "data": {
      "text/latex": [
       "$\\displaystyle \\sum_{k_{1}=0}^{\\infty} \\frac{\\left(-1\\right)^{k_{1}} \\int\\limits_{0}^{\\infty} x^{k_{1} + 1}\\, dx}{k_{1}!}$"
      ],
      "text/plain": [
       "Sum((-1)**k1*Integral(x**(k1 + 1), (x, 0, oo))/factorial(k1), (k1, 0, oo))"
      ]
     },
     "execution_count": 31,
     "metadata": {},
     "output_type": "execute_result"
    }
   ],
   "source": [
    "S_new"
   ]
  },
  {
   "cell_type": "code",
   "execution_count": 24,
   "metadata": {},
   "outputs": [],
   "source": [
    "k1_solutions = sp.solve(k1 + 2 - 1, k1)"
   ]
  },
  {
   "cell_type": "code",
   "execution_count": 10,
   "metadata": {},
   "outputs": [],
   "source": [
    "S_new = S_new.subs(k1, k1_solutions[0])\n"
   ]
  },
  {
   "attachments": {},
   "cell_type": "markdown",
   "metadata": {},
   "source": [
    "## Trabajar con Sumas\n",
    "Debido a que S era una suma, primero debimos acceder a sus argumentos"
   ]
  },
  {
   "cell_type": "code",
   "execution_count": 66,
   "metadata": {},
   "outputs": [
    {
     "name": "stdout",
     "output_type": "stream",
     "text": [
      "(-1)**k1*Integral(x**(k1 + 1), (x, 0, oo))/factorial(k1)\n"
     ]
    }
   ],
   "source": [
    "print(S.args[0])"
   ]
  },
  {
   "cell_type": "code",
   "execution_count": 61,
   "metadata": {},
   "outputs": [
    {
     "name": "stdout",
     "output_type": "stream",
     "text": [
      "k1\n"
     ]
    }
   ],
   "source": [
    "print(S.args[1][0])"
   ]
  },
  {
   "cell_type": "code",
   "execution_count": 62,
   "metadata": {},
   "outputs": [
    {
     "name": "stdout",
     "output_type": "stream",
     "text": [
      "(-1)**k1/factorial(k1)\n"
     ]
    }
   ],
   "source": [
    "print(S.args[0].subs(braket, 1))"
   ]
  },
  {
   "attachments": {},
   "cell_type": "markdown",
   "metadata": {},
   "source": [
    "# Ser capaces de tomar la integral\n",
    "Este codigo permite tomar separadamente todo lo que es integral y lo que no"
   ]
  },
  {
   "cell_type": "code",
   "execution_count": 64,
   "metadata": {},
   "outputs": [
    {
     "data": {
      "text/plain": [
       "((-1)**k1/factorial(k1), Integral(x**(k1 + 1), (x, 0, oo)))"
      ]
     },
     "execution_count": 64,
     "metadata": {},
     "output_type": "execute_result"
    }
   ],
   "source": [
    "S.args[0].as_independent(sp.Integral)"
   ]
  },
  {
   "cell_type": "code",
   "execution_count": null,
   "metadata": {},
   "outputs": [],
   "source": []
  }
 ],
 "metadata": {
  "kernelspec": {
   "display_name": "base",
   "language": "python",
   "name": "python3"
  },
  "language_info": {
   "codemirror_mode": {
    "name": "ipython",
    "version": 3
   },
   "file_extension": ".py",
   "mimetype": "text/x-python",
   "name": "python",
   "nbconvert_exporter": "python",
   "pygments_lexer": "ipython3",
   "version": "3.9.13"
  },
  "orig_nbformat": 4,
  "vscode": {
   "interpreter": {
    "hash": "ad2bdc8ecc057115af97d19610ffacc2b4e99fae6737bb82f5d7fb13d2f2c186"
   }
  }
 },
 "nbformat": 4,
 "nbformat_minor": 2
}
