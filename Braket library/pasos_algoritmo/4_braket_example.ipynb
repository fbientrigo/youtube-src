{
 "cells": [
  {
   "attachments": {},
   "cell_type": "markdown",
   "metadata": {},
   "source": [
    "$$ \n",
    "S = \\sum_{k_1 =0}^\\infty \\frac{(-1)^{k_1}}{(k_1)!} \\int_0^\\infty x^{k_1 + 2 - 1} dx\n",
    "$$\n",
    "\n",
    "The braket is $\\int_0^\\infty x^{k_1 + 2 - 1} dx$ we replace it by a function called braket $ \\braket{k_1+2} $, having this structure, we solve for when the inside of the braket is equal to 0: $k_1 = -2$\n",
    "\n",
    "By rule the sum gets cancelled and the $\\frac{(-1)^{k_1}}{(k_1)!}$ gets replaced by a gamma function $\\Gamma(-k_1)$ \n",
    "\n",
    "Then we use the equation from inside the braket to replace every $k_1 = -2 $\n",
    "\n",
    "$$\n",
    "S = \\sum_{k_1 =0}^\\infty \\frac{(-1)^{k_1}}{(k_1)!} \\int_0^\\infty x^{k_1 + 2 - 1} dx = \\Gamma(-k_1) |_{k_1 = -2} = \\Gamma(2)\n",
    "$$"
   ]
  },
  {
   "cell_type": "code",
   "execution_count": 1,
   "metadata": {},
   "outputs": [],
   "source": [
    "import sympy as sp\n",
    "x = sp.symbols('x')"
   ]
  },
  {
   "cell_type": "code",
   "execution_count": 2,
   "metadata": {},
   "outputs": [],
   "source": [
    "# library\n",
    "def replace_expressions(expr, replacements):\n",
    "    symbols = {}\n",
    "    for r in replacements:\n",
    "        sym = sp.symbols(f\"h_{hash(r)}\")\n",
    "        symbols[sym] = r\n",
    "        expr = expr.subs(r, sym)\n",
    "    return expr, symbols\n",
    "\n",
    "def restore_expressions(expr, symbols):\n",
    "    for sym, r in symbols.items():\n",
    "        expr = expr.subs(sym, r)\n",
    "    return expr\n"
   ]
  },
  {
   "attachments": {},
   "cell_type": "markdown",
   "metadata": {},
   "source": [
    "### Version simple del codigo de brakets\n"
   ]
  },
  {
   "cell_type": "code",
   "execution_count": 3,
   "metadata": {},
   "outputs": [
    {
     "data": {
      "text/latex": [
       "$\\displaystyle \\sum_{k_{1}=0}^{\\infty} \\frac{\\left(-1\\right)^{k_{1}} \\int\\limits_{0}^{\\infty} x^{k_{1} + 1}\\, dx}{k_{1}!}$"
      ],
      "text/plain": [
       "Sum((-1)**k1*Integral(x**(k1 + 1), (x, 0, oo))/factorial(k1), (k1, 0, oo))"
      ]
     },
     "execution_count": 3,
     "metadata": {},
     "output_type": "execute_result"
    }
   ],
   "source": [
    "# programando en codigo:\n",
    "k1 = sp.Symbol('k1', integer=True, positive=True)\n",
    "S = sp.Sum((-1)**k1/sp.factorial(k1) * sp.Integral(x**(k1+2-1), (x, 0, sp.oo)), (k1, 0, sp.oo))\n",
    "S"
   ]
  },
  {
   "attachments": {},
   "cell_type": "markdown",
   "metadata": {},
   "source": [
    "## Trabajar con Sumas\n",
    "Debido a que S era una suma, primero debimos acceder a sus argumentos"
   ]
  },
  {
   "cell_type": "code",
   "execution_count": null,
   "metadata": {},
   "outputs": [
    {
     "name": "stdout",
     "output_type": "stream",
     "text": [
      "(-1)**k1*Integral(x**(k1 + 1), (x, 0, oo))/factorial(k1)\n"
     ]
    }
   ],
   "source": [
    "print(S.args[0])"
   ]
  },
  {
   "attachments": {},
   "cell_type": "markdown",
   "metadata": {},
   "source": [
    "# Ser capaces de tomar la integral\n",
    "Este codigo permite tomar separadamente todo lo que es integral y lo que no"
   ]
  },
  {
   "cell_type": "code",
   "execution_count": null,
   "metadata": {},
   "outputs": [
    {
     "data": {
      "text/plain": [
       "((-1)**k1/factorial(k1), Integral(x**(k1 + 1), (x, 0, oo)))"
      ]
     },
     "execution_count": 64,
     "metadata": {},
     "output_type": "execute_result"
    }
   ],
   "source": [
    "S.args[0].as_independent(sp.Integral)"
   ]
  },
  {
   "attachments": {},
   "cell_type": "markdown",
   "metadata": {},
   "source": [
    "# 3 formas de tomar la integral "
   ]
  },
  {
   "cell_type": "code",
   "execution_count": 10,
   "metadata": {},
   "outputs": [
    {
     "data": {
      "text/latex": [
       "$\\displaystyle \\sum_{k_{1}=0}^{\\infty} \\frac{\\left(-1\\right)^{k_{1}} \\int\\limits_{0}^{\\infty} x^{k_{1} + 1}\\, dx}{k_{1}!}$"
      ],
      "text/plain": [
       "Sum((-1)**k1*Integral(x**(k1 + 1), (x, 0, oo))/factorial(k1), (k1, 0, oo))"
      ]
     },
     "execution_count": 10,
     "metadata": {},
     "output_type": "execute_result"
    }
   ],
   "source": [
    "k1 = sp.Symbol('k1', integer=True, positive=True)\n",
    "S = sp.Sum((-1)**k1/sp.factorial(k1) * sp.Integral(x**(k1+2-1), (x, 0, sp.oo)), (k1, 0, sp.oo))\n",
    "S"
   ]
  },
  {
   "cell_type": "code",
   "execution_count": 11,
   "metadata": {},
   "outputs": [
    {
     "name": "stdout",
     "output_type": "stream",
     "text": [
      "(-1)**k1/factorial(k1)\n",
      "Integral(x**(k1 + 1), (x, 0, oo))\n"
     ]
    }
   ],
   "source": [
    "coeff, integral_term = S.args[0].as_independent(sp.Integral)\n",
    "print(coeff)\n",
    "print(integral_term)"
   ]
  },
  {
   "attachments": {},
   "cell_type": "markdown",
   "metadata": {},
   "source": [
    "extraer los parametros de esta integral"
   ]
  },
  {
   "cell_type": "code",
   "execution_count": 18,
   "metadata": {},
   "outputs": [],
   "source": [
    "integral_argument = integral_term.args[0] # contiene el integrando\n",
    "integral_limits = integral_term.args[1] # contiene los limites de integracion\n",
    "\n",
    "\n",
    "# comprobacion de que es un braket:\n",
    "int_symbol, lowerlimit, upperlimit = integral_limits"
   ]
  },
  {
   "attachments": {},
   "cell_type": "markdown",
   "metadata": {},
   "source": [
    "Deben entonces correrse comprobaciones, como que tiene los limites correctos para ser un braket:"
   ]
  },
  {
   "cell_type": "code",
   "execution_count": 23,
   "metadata": {},
   "outputs": [
    {
     "data": {
      "text/plain": [
       "[True, x]"
      ]
     },
     "execution_count": 23,
     "metadata": {},
     "output_type": "execute_result"
    }
   ],
   "source": [
    "def is_braket(integral_term):\n",
    "    integral_argument = integral_term.args[0] # contiene el integrando\n",
    "    integral_limits = integral_term.args[1] # contiene los limites de integracion\n",
    "\n",
    "    # comprobacion de que es un braket:\n",
    "    int_symbol, lowerlimit, upperlimit = integral_limits\n",
    "    if lowerlimit == 0 and upperlimit == sp.oo:\n",
    "        return [True, int_symbol]\n",
    "    else:\n",
    "        return [False, int_symbol]\n",
    "\n",
    "is_braket(integral_term)j\n"
   ]
  },
  {
   "cell_type": "code",
   "execution_count": 23,
   "metadata": {},
   "outputs": [
    {
     "name": "stdout",
     "output_type": "stream",
     "text": [
      "Integral(x**(k1 + 1), (x, 0, oo))\n"
     ]
    }
   ],
   "source": [
    "# using args\n",
    "integral_term = None\n",
    "for term in S.args[0].args:\n",
    "    if isinstance(term, sp.Integral):\n",
    "        integral_term = term\n",
    "        break\n",
    "\n",
    "print(integral_term)"
   ]
  },
  {
   "cell_type": "code",
   "execution_count": null,
   "metadata": {},
   "outputs": [],
   "source": []
  }
 ],
 "metadata": {
  "kernelspec": {
   "display_name": "base",
   "language": "python",
   "name": "python3"
  },
  "language_info": {
   "codemirror_mode": {
    "name": "ipython",
    "version": 3
   },
   "file_extension": ".py",
   "mimetype": "text/x-python",
   "name": "python",
   "nbconvert_exporter": "python",
   "pygments_lexer": "ipython3",
   "version": "3.9.13"
  },
  "orig_nbformat": 4,
  "vscode": {
   "interpreter": {
    "hash": "ad2bdc8ecc057115af97d19610ffacc2b4e99fae6737bb82f5d7fb13d2f2c186"
   }
  }
 },
 "nbformat": 4,
 "nbformat_minor": 2
}
