{
 "cells": [
  {
   "attachments": {},
   "cell_type": "markdown",
   "metadata": {},
   "source": [
    "se ha de notar que no estamos extrayendo el 1/k! que lleva cada hipergeometrica, asi que se pasara a otra estrategia"
   ]
  },
  {
   "cell_type": "code",
   "execution_count": 1,
   "metadata": {},
   "outputs": [],
   "source": [
    "import braketsolver as bt\n",
    "from sympy import *\n",
    "from sympy.abc import k, m, n\n",
    "__MAX__ = symbols('__MAX__')\n",
    "x = symbols('x')\n",
    "__MAX__ = 4\n",
    "init_printing()"
   ]
  },
  {
   "cell_type": "code",
   "execution_count": 3,
   "metadata": {},
   "outputs": [
    {
     "name": "stdout",
     "output_type": "stream",
     "text": [
      "\u001b[1;31mInit signature:\u001b[0m \u001b[0mhyper\u001b[0m\u001b[1;33m(\u001b[0m\u001b[0map\u001b[0m\u001b[1;33m,\u001b[0m \u001b[0mbq\u001b[0m\u001b[1;33m,\u001b[0m \u001b[0mz\u001b[0m\u001b[1;33m)\u001b[0m\u001b[1;33m\u001b[0m\u001b[1;33m\u001b[0m\u001b[0m\n",
      "\u001b[1;31mDocstring:\u001b[0m     \n",
      "The generalized hypergeometric function is defined by a series where\n",
      "the ratios of successive terms are a rational function of the summation\n",
      "index. When convergent, it is continued analytically to the largest\n",
      "possible domain.\n",
      "\n",
      "Explanation\n",
      "===========\n",
      "\n",
      "The hypergeometric function depends on two vectors of parameters, called\n",
      "the numerator parameters $a_p$, and the denominator parameters\n",
      "$b_q$. It also has an argument $z$. The series definition is\n",
      "\n",
      ".. math ::\n",
      "    {}_pF_q\\left(\\begin{matrix} a_1, \\cdots, a_p \\\\ b_1, \\cdots, b_q \\end{matrix}\n",
      "                 \\middle| z \\right)\n",
      "    = \\sum_{n=0}^\\infty \\frac{(a_1)_n \\cdots (a_p)_n}{(b_1)_n \\cdots (b_q)_n}\n",
      "                        \\frac{z^n}{n!},\n",
      "\n",
      "where $(a)_n = (a)(a+1)\\cdots(a+n-1)$ denotes the rising factorial.\n",
      "\n",
      "If one of the $b_q$ is a non-positive integer then the series is\n",
      "undefined unless one of the $a_p$ is a larger (i.e., smaller in\n",
      "magnitude) non-positive integer. If none of the $b_q$ is a\n",
      "non-positive integer and one of the $a_p$ is a non-positive\n",
      "integer, then the series reduces to a polynomial. To simplify the\n",
      "following discussion, we assume that none of the $a_p$ or\n",
      "$b_q$ is a non-positive integer. For more details, see the\n",
      "references.\n",
      "\n",
      "The series converges for all $z$ if $p \\le q$, and thus\n",
      "defines an entire single-valued function in this case. If $p =\n",
      "q+1$ the series converges for $|z| < 1$, and can be continued\n",
      "analytically into a half-plane. If $p > q+1$ the series is\n",
      "divergent for all $z$.\n",
      "\n",
      "Please note the hypergeometric function constructor currently does *not*\n",
      "check if the parameters actually yield a well-defined function.\n",
      "\n",
      "Examples\n",
      "========\n",
      "\n",
      "The parameters $a_p$ and $b_q$ can be passed as arbitrary\n",
      "iterables, for example:\n",
      "\n",
      ">>> from sympy import hyper\n",
      ">>> from sympy.abc import x, n, a\n",
      ">>> hyper((1, 2, 3), [3, 4], x)\n",
      "hyper((1, 2, 3), (3, 4), x)\n",
      "\n",
      "There is also pretty printing (it looks better using Unicode):\n",
      "\n",
      ">>> from sympy import pprint\n",
      ">>> pprint(hyper((1, 2, 3), [3, 4], x), use_unicode=False)\n",
      "  _\n",
      " |_  /1, 2, 3 |  \\\n",
      " |   |        | x|\n",
      "3  2 \\  3, 4  |  /\n",
      "\n",
      "The parameters must always be iterables, even if they are vectors of\n",
      "length one or zero:\n",
      "\n",
      ">>> hyper((1, ), [], x)\n",
      "hyper((1,), (), x)\n",
      "\n",
      "But of course they may be variables (but if they depend on $x$ then you\n",
      "should not expect much implemented functionality):\n",
      "\n",
      ">>> hyper((n, a), (n**2,), x)\n",
      "hyper((n, a), (n**2,), x)\n",
      "\n",
      "The hypergeometric function generalizes many named special functions.\n",
      "The function ``hyperexpand()`` tries to express a hypergeometric function\n",
      "using named special functions. For example:\n",
      "\n",
      ">>> from sympy import hyperexpand\n",
      ">>> hyperexpand(hyper([], [], x))\n",
      "exp(x)\n",
      "\n",
      "You can also use ``expand_func()``:\n",
      "\n",
      ">>> from sympy import expand_func\n",
      ">>> expand_func(x*hyper([1, 1], [2], -x))\n",
      "log(x + 1)\n",
      "\n",
      "More examples:\n",
      "\n",
      ">>> from sympy import S\n",
      ">>> hyperexpand(hyper([], [S(1)/2], -x**2/4))\n",
      "cos(x)\n",
      ">>> hyperexpand(x*hyper([S(1)/2, S(1)/2], [S(3)/2], x**2))\n",
      "asin(x)\n",
      "\n",
      "We can also sometimes ``hyperexpand()`` parametric functions:\n",
      "\n",
      ">>> from sympy.abc import a\n",
      ">>> hyperexpand(hyper([-a], [], x))\n",
      "(1 - x)**a\n",
      "\n",
      "See Also\n",
      "========\n",
      "\n",
      "sympy.simplify.hyperexpand\n",
      "gamma\n",
      "meijerg\n",
      "\n",
      "References\n",
      "==========\n",
      "\n",
      ".. [1] Luke, Y. L. (1969), The Special Functions and Their Approximations,\n",
      "       Volume 1\n",
      ".. [2] https://en.wikipedia.org/wiki/Generalized_hypergeometric_function\n",
      "\u001b[1;31mFile:\u001b[0m           c:\\programdata\\anaconda3\\lib\\site-packages\\sympy\\functions\\special\\hyper.py\n",
      "\u001b[1;31mType:\u001b[0m           FunctionClass\n",
      "\u001b[1;31mSubclasses:\u001b[0m     \n"
     ]
    }
   ],
   "source": [
    "hyper?"
   ]
  },
  {
   "cell_type": "code",
   "execution_count": 5,
   "metadata": {},
   "outputs": [],
   "source": [
    "# define a hypergeometric function\n",
    "f = hyper([1],[0], x)"
   ]
  },
  {
   "cell_type": "code",
   "execution_count": 6,
   "metadata": {},
   "outputs": [
    {
     "data": {
      "image/png": "[encoded data removed]",
      "text/latex": [
       "$\\displaystyle {{}_{1}F_{1}\\left(\\begin{matrix} 1 \\\\ 0 \\end{matrix}\\middle| {x} \\right)}$"
      ],
      "text/plain": [
       " ┌─  ⎛1 │  ⎞\n",
       " ├─  ⎜  │ x⎟\n",
       "1╵ 1 ⎝0 │  ⎠"
      ]
     },
     "execution_count": 6,
     "metadata": {},
     "output_type": "execute_result"
    }
   ],
   "source": [
    "f"
   ]
  },
  {
   "cell_type": "code",
   "execution_count": 18,
   "metadata": {},
   "outputs": [
    {
     "name": "stdout",
     "output_type": "stream",
     "text": [
      "1.64872127070013\n",
      "y la raiz del numero e: 1.64872127070013\n"
     ]
    }
   ],
   "source": [
    "x = Symbol('x')\n",
    "exp_hyper = hyper([],[], x)\n",
    "\n",
    "# substitute x with 0.5\n",
    "f_0_5 = exp_hyper.subs(x, 0.5)\n",
    "\n",
    "# evaluate the hypergeometric function at x=0.5\n",
    "f_eval = f_0_5.evalf()\n",
    "\n",
    "print(f_eval)\n",
    "\n",
    "print(\"y la raiz del numero e:\", exp(0.5))"
   ]
  },
  {
   "attachments": {},
   "cell_type": "markdown",
   "metadata": {},
   "source": [
    "$$\n",
    "{}_1F_0 [a; | x] = \\frac{1}{(1-x)^a}\n",
    "$$"
   ]
  },
  {
   "cell_type": "code",
   "execution_count": 24,
   "metadata": {},
   "outputs": [
    {
     "name": "stdout",
     "output_type": "stream",
     "text": [
      "4.00000000000000\n"
     ]
    }
   ],
   "source": [
    "a = 2\n",
    "rational_hyper = hyper([a],[], x)\n",
    "\n",
    "# substitute x with 0.5\n",
    "f_0_5 = rational_hyper.subs(x, 0.5)\n",
    "\n",
    "# evaluate the hypergeometric function at x=0.5\n",
    "f_eval = f_0_5.evalf()\n",
    "\n",
    "print(f_eval)"
   ]
  },
  {
   "attachments": {},
   "cell_type": "markdown",
   "metadata": {},
   "source": [
    "# Extracting Parameters"
   ]
  },
  {
   "cell_type": "code",
   "execution_count": 25,
   "metadata": {},
   "outputs": [],
   "source": [
    "f = rational_hyper"
   ]
  },
  {
   "cell_type": "code",
   "execution_count": 26,
   "metadata": {},
   "outputs": [
    {
     "name": "stdout",
     "output_type": "stream",
     "text": [
      "Hypergeometric parameters:  []\n"
     ]
    }
   ],
   "source": [
    "# extract hypergeometric parameters\n",
    "ExtractHypergeometricParameters = lambda func: [g for g in func.atoms(Function) if g.func.__name__ in [\"gamma\", \"RisingFactorial\"]]\n",
    "params = ExtractHypergeometricParameters(f)\n",
    "print(\"Hypergeometric parameters: \", params)"
   ]
  },
  {
   "cell_type": "code",
   "execution_count": 32,
   "metadata": {},
   "outputs": [
    {
     "name": "stdout",
     "output_type": "stream",
     "text": [
      "4.00000000000000\n",
      "Hypergeometric parameters:  [[2], []]\n"
     ]
    }
   ],
   "source": [
    "from sympy import hyper, S\n",
    "\n",
    "def ExtractHypergeometricParameters(f):\n",
    "    a = f.ap\n",
    "    b = f.bq\n",
    "    # Convert all S.Zero to empty list\n",
    "    a = [i if i != S.Zero else [] for i in a]\n",
    "    b = [i if i != S.Zero else [] for i in b]\n",
    "    return [a, b]\n",
    "\n",
    "a = 2\n",
    "rational_hyper = hyper([a],[], x)\n",
    "\n",
    "# substitute x with 0.5\n",
    "f_0_5 = rational_hyper.subs(x, 0.5)\n",
    "\n",
    "# evaluate the hypergeometric function at x=0.5\n",
    "f_eval = f_0_5.evalf()\n",
    "\n",
    "print(f_eval)\n",
    "\n",
    "# lets write a code thats capable of extracting this parameters\n",
    "f = rational_hyper\n",
    "params = ExtractHypergeometricParameters(f)\n",
    "print(\"Hypergeometric parameters: \", params)\n",
    "# the output should be\n",
    "# Hypergeometric parameters:  [[2], []]"
   ]
  },
  {
   "cell_type": "code",
   "execution_count": 29,
   "metadata": {},
   "outputs": [
    {
     "data": {
      "image/png": "[encoded data removed]",
      "text/latex": [
       "$\\displaystyle \\left( 2,\\right)$"
      ],
      "text/plain": [
       "(2,)"
      ]
     },
     "execution_count": 29,
     "metadata": {},
     "output_type": "execute_result"
    }
   ],
   "source": [
    "f.ap"
   ]
  },
  {
   "cell_type": "code",
   "execution_count": 30,
   "metadata": {},
   "outputs": [
    {
     "data": {
      "image/png": "[encoded data removed]",
      "text/latex": [
       "$\\displaystyle \\left( \\right)$"
      ],
      "text/plain": [
       "()"
      ]
     },
     "execution_count": 30,
     "metadata": {},
     "output_type": "execute_result"
    }
   ],
   "source": [
    "f.bq"
   ]
  },
  {
   "cell_type": "code",
   "execution_count": null,
   "metadata": {},
   "outputs": [],
   "source": [
    "# ahora que sea capaz de extrar los parametros de una funcion hipergeometrica y las funciones gamma que esten multiplicando\n",
    "# a la funcion hipergeometrica\n",
    "def ExtractHypergeometricParameters(f):\n",
    "    a = f.ap\n",
    "    b = f.bq\n",
    "    # extraer como lista los parametros que representan los RisingFactorial\n",
    "    a = [i if i != S.Zero else [] for i in a]\n",
    "    b = [i if i != S.Zero else [] for i in b]\n",
    "\n",
    "    # ahora extraer las funciones gamma que estan multiplicando a la funcion hipergeometrica\n",
    "    \n",
    "\n",
    "\n",
    "    return [a, b]\n"
   ]
  },
  {
   "cell_type": "code",
   "execution_count": 36,
   "metadata": {},
   "outputs": [
    {
     "data": {
      "text/plain": [
       "RisingFactorial"
      ]
     },
     "execution_count": 36,
     "metadata": {},
     "output_type": "execute_result"
    }
   ],
   "source": [
    "rf"
   ]
  },
  {
   "cell_type": "code",
   "execution_count": 38,
   "metadata": {},
   "outputs": [
    {
     "data": {
      "image/png": "[encoded data removed]",
      "text/latex": [
       "$\\displaystyle {2}^{\\left(n\\right)}$"
      ],
      "text/plain": [
       "RisingFactorial(2, n)"
      ]
     },
     "execution_count": 38,
     "metadata": {},
     "output_type": "execute_result"
    }
   ],
   "source": [
    "n = Symbol('n', integer=True, positive=True)\n",
    "rf(2, n) # RisingFactorial or rising factorial as known in sympy"
   ]
  },
  {
   "attachments": {},
   "cell_type": "markdown",
   "metadata": {},
   "source": [
    "# Extracting Pre Factors"
   ]
  },
  {
   "cell_type": "code",
   "execution_count": 33,
   "metadata": {},
   "outputs": [],
   "source": [
    "def remove(f, *args):\n",
    "    return f.subs([(arg, 0) for arg in args])"
   ]
  },
  {
   "cell_type": "code",
   "execution_count": 34,
   "metadata": {},
   "outputs": [
    {
     "ename": "AttributeError",
     "evalue": "'list' object has no attribute 'subs'",
     "output_type": "error",
     "traceback": [
      "\u001b[1;31m---------------------------------------------------------------------------\u001b[0m",
      "\u001b[1;31mAttributeError\u001b[0m                            Traceback (most recent call last)",
      "\u001b[1;32m~\\AppData\\Local\\Temp\\ipykernel_11260\\465756128.py\u001b[0m in \u001b[0;36m<module>\u001b[1;34m\u001b[0m\n\u001b[0;32m      1\u001b[0m \u001b[1;31m# extract pre-factor\u001b[0m\u001b[1;33m\u001b[0m\u001b[1;33m\u001b[0m\u001b[0m\n\u001b[0;32m      2\u001b[0m \u001b[0mExtractPreFactor\u001b[0m \u001b[1;33m=\u001b[0m \u001b[1;32mlambda\u001b[0m \u001b[0mfunc\u001b[0m\u001b[1;33m:\u001b[0m \u001b[0msimplify\u001b[0m\u001b[1;33m(\u001b[0m\u001b[0mexpand\u001b[0m\u001b[1;33m(\u001b[0m\u001b[0mremove\u001b[0m\u001b[1;33m(\u001b[0m\u001b[1;33m*\u001b[0m\u001b[0mparams\u001b[0m\u001b[1;33m,\u001b[0m \u001b[0mfunc\u001b[0m\u001b[1;33m)\u001b[0m\u001b[1;33m)\u001b[0m \u001b[1;33m*\u001b[0m \u001b[0mMul\u001b[0m\u001b[1;33m(\u001b[0m\u001b[1;33m*\u001b[0m\u001b[0mparams\u001b[0m\u001b[1;33m)\u001b[0m\u001b[1;33m)\u001b[0m\u001b[1;33m\u001b[0m\u001b[1;33m\u001b[0m\u001b[0m\n\u001b[1;32m----> 3\u001b[1;33m \u001b[0mprefactor\u001b[0m \u001b[1;33m=\u001b[0m \u001b[0mExtractPreFactor\u001b[0m\u001b[1;33m(\u001b[0m\u001b[0mf\u001b[0m\u001b[1;33m)\u001b[0m\u001b[1;33m\u001b[0m\u001b[1;33m\u001b[0m\u001b[0m\n\u001b[0m\u001b[0;32m      4\u001b[0m \u001b[0mprint\u001b[0m\u001b[1;33m(\u001b[0m\u001b[1;34m\"Pre-factor: \"\u001b[0m\u001b[1;33m,\u001b[0m \u001b[0mprefactor\u001b[0m\u001b[1;33m)\u001b[0m\u001b[1;33m\u001b[0m\u001b[1;33m\u001b[0m\u001b[0m\n",
      "\u001b[1;32m~\\AppData\\Local\\Temp\\ipykernel_11260\\465756128.py\u001b[0m in \u001b[0;36m<lambda>\u001b[1;34m(func)\u001b[0m\n\u001b[0;32m      1\u001b[0m \u001b[1;31m# extract pre-factor\u001b[0m\u001b[1;33m\u001b[0m\u001b[1;33m\u001b[0m\u001b[0m\n\u001b[1;32m----> 2\u001b[1;33m \u001b[0mExtractPreFactor\u001b[0m \u001b[1;33m=\u001b[0m \u001b[1;32mlambda\u001b[0m \u001b[0mfunc\u001b[0m\u001b[1;33m:\u001b[0m \u001b[0msimplify\u001b[0m\u001b[1;33m(\u001b[0m\u001b[0mexpand\u001b[0m\u001b[1;33m(\u001b[0m\u001b[0mremove\u001b[0m\u001b[1;33m(\u001b[0m\u001b[1;33m*\u001b[0m\u001b[0mparams\u001b[0m\u001b[1;33m,\u001b[0m \u001b[0mfunc\u001b[0m\u001b[1;33m)\u001b[0m\u001b[1;33m)\u001b[0m \u001b[1;33m*\u001b[0m \u001b[0mMul\u001b[0m\u001b[1;33m(\u001b[0m\u001b[1;33m*\u001b[0m\u001b[0mparams\u001b[0m\u001b[1;33m)\u001b[0m\u001b[1;33m)\u001b[0m\u001b[1;33m\u001b[0m\u001b[1;33m\u001b[0m\u001b[0m\n\u001b[0m\u001b[0;32m      3\u001b[0m \u001b[0mprefactor\u001b[0m \u001b[1;33m=\u001b[0m \u001b[0mExtractPreFactor\u001b[0m\u001b[1;33m(\u001b[0m\u001b[0mf\u001b[0m\u001b[1;33m)\u001b[0m\u001b[1;33m\u001b[0m\u001b[1;33m\u001b[0m\u001b[0m\n\u001b[0;32m      4\u001b[0m \u001b[0mprint\u001b[0m\u001b[1;33m(\u001b[0m\u001b[1;34m\"Pre-factor: \"\u001b[0m\u001b[1;33m,\u001b[0m \u001b[0mprefactor\u001b[0m\u001b[1;33m)\u001b[0m\u001b[1;33m\u001b[0m\u001b[1;33m\u001b[0m\u001b[0m\n",
      "\u001b[1;32m~\\AppData\\Local\\Temp\\ipykernel_11260\\1129492409.py\u001b[0m in \u001b[0;36mremove\u001b[1;34m(f, *args)\u001b[0m\n\u001b[0;32m      1\u001b[0m \u001b[1;32mdef\u001b[0m \u001b[0mremove\u001b[0m\u001b[1;33m(\u001b[0m\u001b[0mf\u001b[0m\u001b[1;33m,\u001b[0m \u001b[1;33m*\u001b[0m\u001b[0margs\u001b[0m\u001b[1;33m)\u001b[0m\u001b[1;33m:\u001b[0m\u001b[1;33m\u001b[0m\u001b[1;33m\u001b[0m\u001b[0m\n\u001b[1;32m----> 2\u001b[1;33m     \u001b[1;32mreturn\u001b[0m \u001b[0mf\u001b[0m\u001b[1;33m.\u001b[0m\u001b[0msubs\u001b[0m\u001b[1;33m(\u001b[0m\u001b[1;33m[\u001b[0m\u001b[1;33m(\u001b[0m\u001b[0marg\u001b[0m\u001b[1;33m,\u001b[0m \u001b[1;36m0\u001b[0m\u001b[1;33m)\u001b[0m \u001b[1;32mfor\u001b[0m \u001b[0marg\u001b[0m \u001b[1;32min\u001b[0m \u001b[0margs\u001b[0m\u001b[1;33m]\u001b[0m\u001b[1;33m)\u001b[0m\u001b[1;33m\u001b[0m\u001b[1;33m\u001b[0m\u001b[0m\n\u001b[0m",
      "\u001b[1;31mAttributeError\u001b[0m: 'list' object has no attribute 'subs'"
     ]
    }
   ],
   "source": [
    "# extract pre-factor\n",
    "ExtractPreFactor = lambda func: simplify(expand(remove(*params, func)) * Mul(*params))\n",
    "prefactor = ExtractPreFactor(f)\n",
    "print(\"Pre-factor: \", prefactor)"
   ]
  },
  {
   "cell_type": "code",
   "execution_count": 22,
   "metadata": {},
   "outputs": [
    {
     "name": "stdout",
     "output_type": "stream",
     "text": [
      "Pre-factor:  hyper((1, 2), (3, 4, 5), x)\n"
     ]
    }
   ],
   "source": [
    "#2do intento de prefactors\n",
    "k_list = [symbols('k{}'.format(i)) for i in range(1, int(__MAX__)+1)]\n",
    "\n",
    "ExtractPreFactor = lambda func: simplify(expand(func / Mul(*params))) * Mul(*[1/(n + k - m) for k, n, m in zip(k_list[:len(params)], params, range(1, len(params)+1))])\n",
    "prefactor = ExtractPreFactor(f)\n",
    "print(\"Pre-factor: \", prefactor)"
   ]
  },
  {
   "cell_type": "code",
   "execution_count": 12,
   "metadata": {},
   "outputs": [
    {
     "ename": "TypeError",
     "evalue": "'Add' object cannot be interpreted as an integer",
     "output_type": "error",
     "traceback": [
      "\u001b[1;31m---------------------------------------------------------------------------\u001b[0m",
      "\u001b[1;31mTypeError\u001b[0m                                 Traceback (most recent call last)",
      "\u001b[1;32m~\\AppData\\Local\\Temp\\ipykernel_440\\1139258646.py\u001b[0m in \u001b[0;36m<module>\u001b[1;34m\u001b[0m\n\u001b[0;32m      1\u001b[0m \u001b[1;31m# extract hypergeometric arguments\u001b[0m\u001b[1;33m\u001b[0m\u001b[1;33m\u001b[0m\u001b[0m\n\u001b[0;32m      2\u001b[0m \u001b[0mExtractHypergeometricArguments\u001b[0m \u001b[1;33m=\u001b[0m \u001b[1;32mlambda\u001b[0m \u001b[0mfunc\u001b[0m\u001b[1;33m:\u001b[0m \u001b[1;33m[\u001b[0m\u001b[0mg\u001b[0m \u001b[1;32mfor\u001b[0m \u001b[0mg\u001b[0m \u001b[1;32min\u001b[0m \u001b[0mfunc\u001b[0m\u001b[1;33m.\u001b[0m\u001b[0margs\u001b[0m \u001b[1;32mif\u001b[0m \u001b[0many\u001b[0m\u001b[1;33m(\u001b[0m\u001b[1;33m[\u001b[0m\u001b[0mk\u001b[0m\u001b[1;33m(\u001b[0m\u001b[0mi\u001b[0m\u001b[1;33m)\u001b[0m \u001b[1;32min\u001b[0m \u001b[0mg\u001b[0m\u001b[1;33m.\u001b[0m\u001b[0matoms\u001b[0m\u001b[1;33m(\u001b[0m\u001b[1;33m)\u001b[0m \u001b[1;32mfor\u001b[0m \u001b[0mi\u001b[0m \u001b[1;32min\u001b[0m \u001b[0mrange\u001b[0m\u001b[1;33m(\u001b[0m\u001b[1;36m1\u001b[0m\u001b[1;33m,\u001b[0m \u001b[0m__MAX__\u001b[0m\u001b[1;33m+\u001b[0m\u001b[1;36m1\u001b[0m\u001b[1;33m)\u001b[0m\u001b[1;33m]\u001b[0m\u001b[1;33m)\u001b[0m\u001b[1;33m]\u001b[0m\u001b[1;33m\u001b[0m\u001b[1;33m\u001b[0m\u001b[0m\n\u001b[1;32m----> 3\u001b[1;33m \u001b[0marguments\u001b[0m \u001b[1;33m=\u001b[0m \u001b[0mExtractHypergeometricArguments\u001b[0m\u001b[1;33m(\u001b[0m\u001b[0mf\u001b[0m\u001b[1;33m)\u001b[0m\u001b[1;33m\u001b[0m\u001b[1;33m\u001b[0m\u001b[0m\n\u001b[0m\u001b[0;32m      4\u001b[0m \u001b[0mprint\u001b[0m\u001b[1;33m(\u001b[0m\u001b[1;34m\"Hypergeometric arguments: \"\u001b[0m\u001b[1;33m,\u001b[0m \u001b[0marguments\u001b[0m\u001b[1;33m)\u001b[0m\u001b[1;33m\u001b[0m\u001b[1;33m\u001b[0m\u001b[0m\n",
      "\u001b[1;32m~\\AppData\\Local\\Temp\\ipykernel_440\\1139258646.py\u001b[0m in \u001b[0;36m<lambda>\u001b[1;34m(func)\u001b[0m\n\u001b[0;32m      1\u001b[0m \u001b[1;31m# extract hypergeometric arguments\u001b[0m\u001b[1;33m\u001b[0m\u001b[1;33m\u001b[0m\u001b[0m\n\u001b[1;32m----> 2\u001b[1;33m \u001b[0mExtractHypergeometricArguments\u001b[0m \u001b[1;33m=\u001b[0m \u001b[1;32mlambda\u001b[0m \u001b[0mfunc\u001b[0m\u001b[1;33m:\u001b[0m \u001b[1;33m[\u001b[0m\u001b[0mg\u001b[0m \u001b[1;32mfor\u001b[0m \u001b[0mg\u001b[0m \u001b[1;32min\u001b[0m \u001b[0mfunc\u001b[0m\u001b[1;33m.\u001b[0m\u001b[0margs\u001b[0m \u001b[1;32mif\u001b[0m \u001b[0many\u001b[0m\u001b[1;33m(\u001b[0m\u001b[1;33m[\u001b[0m\u001b[0mk\u001b[0m\u001b[1;33m(\u001b[0m\u001b[0mi\u001b[0m\u001b[1;33m)\u001b[0m \u001b[1;32min\u001b[0m \u001b[0mg\u001b[0m\u001b[1;33m.\u001b[0m\u001b[0matoms\u001b[0m\u001b[1;33m(\u001b[0m\u001b[1;33m)\u001b[0m \u001b[1;32mfor\u001b[0m \u001b[0mi\u001b[0m \u001b[1;32min\u001b[0m \u001b[0mrange\u001b[0m\u001b[1;33m(\u001b[0m\u001b[1;36m1\u001b[0m\u001b[1;33m,\u001b[0m \u001b[0m__MAX__\u001b[0m\u001b[1;33m+\u001b[0m\u001b[1;36m1\u001b[0m\u001b[1;33m)\u001b[0m\u001b[1;33m]\u001b[0m\u001b[1;33m)\u001b[0m\u001b[1;33m]\u001b[0m\u001b[1;33m\u001b[0m\u001b[1;33m\u001b[0m\u001b[0m\n\u001b[0m\u001b[0;32m      3\u001b[0m \u001b[0marguments\u001b[0m \u001b[1;33m=\u001b[0m \u001b[0mExtractHypergeometricArguments\u001b[0m\u001b[1;33m(\u001b[0m\u001b[0mf\u001b[0m\u001b[1;33m)\u001b[0m\u001b[1;33m\u001b[0m\u001b[1;33m\u001b[0m\u001b[0m\n\u001b[0;32m      4\u001b[0m \u001b[0mprint\u001b[0m\u001b[1;33m(\u001b[0m\u001b[1;34m\"Hypergeometric arguments: \"\u001b[0m\u001b[1;33m,\u001b[0m \u001b[0marguments\u001b[0m\u001b[1;33m)\u001b[0m\u001b[1;33m\u001b[0m\u001b[1;33m\u001b[0m\u001b[0m\n",
      "\u001b[1;32m~\\AppData\\Local\\Temp\\ipykernel_440\\1139258646.py\u001b[0m in \u001b[0;36m<listcomp>\u001b[1;34m(.0)\u001b[0m\n\u001b[0;32m      1\u001b[0m \u001b[1;31m# extract hypergeometric arguments\u001b[0m\u001b[1;33m\u001b[0m\u001b[1;33m\u001b[0m\u001b[0m\n\u001b[1;32m----> 2\u001b[1;33m \u001b[0mExtractHypergeometricArguments\u001b[0m \u001b[1;33m=\u001b[0m \u001b[1;32mlambda\u001b[0m \u001b[0mfunc\u001b[0m\u001b[1;33m:\u001b[0m \u001b[1;33m[\u001b[0m\u001b[0mg\u001b[0m \u001b[1;32mfor\u001b[0m \u001b[0mg\u001b[0m \u001b[1;32min\u001b[0m \u001b[0mfunc\u001b[0m\u001b[1;33m.\u001b[0m\u001b[0margs\u001b[0m \u001b[1;32mif\u001b[0m \u001b[0many\u001b[0m\u001b[1;33m(\u001b[0m\u001b[1;33m[\u001b[0m\u001b[0mk\u001b[0m\u001b[1;33m(\u001b[0m\u001b[0mi\u001b[0m\u001b[1;33m)\u001b[0m \u001b[1;32min\u001b[0m \u001b[0mg\u001b[0m\u001b[1;33m.\u001b[0m\u001b[0matoms\u001b[0m\u001b[1;33m(\u001b[0m\u001b[1;33m)\u001b[0m \u001b[1;32mfor\u001b[0m \u001b[0mi\u001b[0m \u001b[1;32min\u001b[0m \u001b[0mrange\u001b[0m\u001b[1;33m(\u001b[0m\u001b[1;36m1\u001b[0m\u001b[1;33m,\u001b[0m \u001b[0m__MAX__\u001b[0m\u001b[1;33m+\u001b[0m\u001b[1;36m1\u001b[0m\u001b[1;33m)\u001b[0m\u001b[1;33m]\u001b[0m\u001b[1;33m)\u001b[0m\u001b[1;33m]\u001b[0m\u001b[1;33m\u001b[0m\u001b[1;33m\u001b[0m\u001b[0m\n\u001b[0m\u001b[0;32m      3\u001b[0m \u001b[0marguments\u001b[0m \u001b[1;33m=\u001b[0m \u001b[0mExtractHypergeometricArguments\u001b[0m\u001b[1;33m(\u001b[0m\u001b[0mf\u001b[0m\u001b[1;33m)\u001b[0m\u001b[1;33m\u001b[0m\u001b[1;33m\u001b[0m\u001b[0m\n\u001b[0;32m      4\u001b[0m \u001b[0mprint\u001b[0m\u001b[1;33m(\u001b[0m\u001b[1;34m\"Hypergeometric arguments: \"\u001b[0m\u001b[1;33m,\u001b[0m \u001b[0marguments\u001b[0m\u001b[1;33m)\u001b[0m\u001b[1;33m\u001b[0m\u001b[1;33m\u001b[0m\u001b[0m\n",
      "\u001b[1;31mTypeError\u001b[0m: 'Add' object cannot be interpreted as an integer"
     ]
    }
   ],
   "source": [
    "# extract hypergeometric arguments\n",
    "ExtractHypergeometricArguments = lambda func: [g for g in func.args if any([k(i) in g.atoms() for i in range(1, __MAX__+1)])]\n",
    "arguments = ExtractHypergeometricArguments(f)\n",
    "print(\"Hypergeometric arguments: \", arguments)"
   ]
  },
  {
   "cell_type": "markdown",
   "metadata": {},
   "source": []
  },
  {
   "cell_type": "code",
   "execution_count": 39,
   "metadata": {},
   "outputs": [],
   "source": [
    "import sympy as sp\n",
    "\n",
    "def ExtractHypergeometricParameters(f):\n",
    "    params = []\n",
    "    for arg in f.args:\n",
    "        if isinstance(arg, sp.Pow):\n",
    "            if arg.base == sp.gamma:\n",
    "                params.append(arg.args[0])\n",
    "        elif isinstance(arg, sp.Piecewise):\n",
    "            for expr, cond in arg.args:\n",
    "                if isinstance(expr, sp.Mul):\n",
    "                    for sub_expr in expr.args:\n",
    "                        if isinstance(sub_expr, sp.Pow) and sub_expr.base == sp.RisingFactorial:\n",
    "                            params.append(sub_expr.args[0])\n",
    "                elif isinstance(expr, sp.Pow) and expr.base == sp.RisingFactorial:\n",
    "                    params.append(expr.args[0])\n",
    "        elif isinstance(arg, sp.Mul):\n",
    "            for sub_expr in arg.args:\n",
    "                if isinstance(sub_expr, sp.Pow) and sub_expr.base == sp.RisingFactorial:\n",
    "                    params.append(sub_expr.args[0])\n",
    "    return params\n"
   ]
  },
  {
   "cell_type": "code",
   "execution_count": 40,
   "metadata": {},
   "outputs": [
    {
     "name": "stdout",
     "output_type": "stream",
     "text": [
      "Hypergeometric parameters:  []\n"
     ]
    }
   ],
   "source": [
    "a = 2\n",
    "rational_hyper = sp.hyper([a], [], x)\n",
    "params = ExtractHypergeometricParameters(rational_hyper)\n",
    "print(\"Hypergeometric parameters: \", params)\n"
   ]
  },
  {
   "cell_type": "code",
   "execution_count": 42,
   "metadata": {},
   "outputs": [
    {
     "ename": "AttributeError",
     "evalue": "module 'sympy' has no attribute 'pochhammer'",
     "output_type": "error",
     "traceback": [
      "\u001b[1;31m---------------------------------------------------------------------------\u001b[0m",
      "\u001b[1;31mAttributeError\u001b[0m                            Traceback (most recent call last)",
      "\u001b[1;32m~\\AppData\\Local\\Temp\\ipykernel_11260\\2183497570.py\u001b[0m in \u001b[0;36m<module>\u001b[1;34m\u001b[0m\n\u001b[1;32m----> 1\u001b[1;33m \u001b[0msp\u001b[0m\u001b[1;33m.\u001b[0m\u001b[0mpochhammer\u001b[0m\u001b[1;33m\u001b[0m\u001b[1;33m\u001b[0m\u001b[0m\n\u001b[0m",
      "\u001b[1;31mAttributeError\u001b[0m: module 'sympy' has no attribute 'pochhammer'"
     ]
    }
   ],
   "source": [
    "sp.RisingFactorial"
   ]
  },
  {
   "cell_type": "code",
   "execution_count": 43,
   "metadata": {},
   "outputs": [
    {
     "data": {
      "text/plain": [
       "RisingFactorial"
      ]
     },
     "execution_count": 43,
     "metadata": {},
     "output_type": "execute_result"
    }
   ],
   "source": [
    "sp.RisingFactorial"
   ]
  },
  {
   "cell_type": "code",
   "execution_count": 55,
   "metadata": {},
   "outputs": [],
   "source": [
    "import sympy as sp\n",
    "\n",
    "def ExtractHypergeometricParameters(f):\n",
    "    params = []\n",
    "    for arg in f.args:\n",
    "        if isinstance(arg, sp.RisingFactorial):\n",
    "            params.append(arg.args)\n",
    "    return params\n"
   ]
  },
  {
   "cell_type": "code",
   "execution_count": 56,
   "metadata": {},
   "outputs": [
    {
     "name": "stdout",
     "output_type": "stream",
     "text": [
      "Hypergeometric parameters:  []\n"
     ]
    }
   ],
   "source": [
    "a = 2\n",
    "rational_hyper = sp.hyper([a], [], x)\n",
    "params = ExtractHypergeometricParameters(rational_hyper)\n",
    "print(\"Hypergeometric parameters: \", params)"
   ]
  },
  {
   "cell_type": "code",
   "execution_count": 58,
   "metadata": {},
   "outputs": [
    {
     "name": "stdout",
     "output_type": "stream",
     "text": [
      "(2,)\n",
      "()\n",
      "x\n"
     ]
    }
   ],
   "source": [
    "for arg in f.args:\n",
    "    print(arg)"
   ]
  },
  {
   "cell_type": "code",
   "execution_count": 63,
   "metadata": {},
   "outputs": [
    {
     "data": {
      "image/png": "[encoded data removed]",
      "text/latex": [
       "$\\displaystyle \\left[ k_{1}, \\  k_{2}, \\  k_{3}, \\  k_{4}\\right]$"
      ],
      "text/plain": [
       "[k₁, k₂, k₃, k₄]"
      ]
     },
     "execution_count": 63,
     "metadata": {},
     "output_type": "execute_result"
    }
   ],
   "source": [
    "k_list = [symbols('k{}'.format(i)) for i in range(1, int(__MAX__)+1)]\n",
    "k_list"
   ]
  },
  {
   "cell_type": "code",
   "execution_count": 65,
   "metadata": {},
   "outputs": [
    {
     "name": "stdout",
     "output_type": "stream",
     "text": [
      "RisingFactorial(2, k1)\n"
     ]
    }
   ],
   "source": [
    "# every hypergeometric function has its own k in k_list\n",
    "# so we need to extract the k that corresponds to the hypergeometric function\n",
    "\n",
    "# if first hypergeometric function then k_list[0]\n",
    "\n",
    "for i in f.args[0]:\n",
    "    print( sp.RisingFactorial(i, k_list[0]) )\n",
    "\n",
    "for i in f.args[1]:\n",
    "    print( sp.RisingFactorial(i, k_list[0]) )"
   ]
  },
  {
   "cell_type": "code",
   "execution_count": 67,
   "metadata": {},
   "outputs": [
    {
     "data": {
      "image/png": "[encoded data removed]",
      "text/latex": [
       "$\\displaystyle {\\left( 2,\\right)}^{\\left(\\left( \\right)\\right)}$"
      ],
      "text/plain": [
       "RisingFactorial((2,), ())"
      ]
     },
     "execution_count": 67,
     "metadata": {},
     "output_type": "execute_result"
    }
   ],
   "source": [
    "sp.RisingFactorial(*rational_hyper.args[:2])\n"
   ]
  },
  {
   "attachments": {},
   "cell_type": "markdown",
   "metadata": {},
   "source": [
    "### intento de \n",
    "When we grab a function, we first need to find all the hypergeometric functions it contains, then all the RisingFactorials and then all the GammaFunctions\n",
    "\n",
    "This is the very first step,\n",
    "every time we find a hypergeometric function, we choose a symbol from the k_list\n",
    "and we extract from that function using"
   ]
  },
  {
   "cell_type": "code",
   "execution_count": 68,
   "metadata": {},
   "outputs": [],
   "source": [
    "import sympy as sp\n",
    "\n",
    "def extract_hypergeometric_parameters(f, k_list=[]):\n",
    "    # Initialize lists to hold the hypergeometric parameters, rising factorials, and gamma functions\n",
    "    hyper_params = []\n",
    "    rising_factorials = []\n",
    "    gamma_funcs = []\n",
    "    \n",
    "    # Check if the current function is a hypergeometric function\n",
    "    if isinstance(f, sp.functions.special.hyper.hyper):\n",
    "        # Choose a symbol from the k_list for this hypergeometric function\n",
    "        k = k_list[0] if len(k_list) > 0 else sp.Symbol('k')\n",
    "        k_list = k_list[1:] if len(k_list) > 0 else k_list\n",
    "        \n",
    "        # Extract the hypergeometric parameters\n",
    "        for arg in f.args:\n",
    "            if isinstance(arg, (sp.Symbol, sp.Integer)):\n",
    "                hyper_params.append([arg])\n",
    "            elif isinstance(arg, sp.Tuple):\n",
    "                hyper_params.append(list(arg))\n",
    "        \n",
    "        # Extract the rising factorials\n",
    "        for i in f.args[0]:\n",
    "            rising_factorials.append(sp.RisingFactorial(i, k))\n",
    "        for i in f.args[1]:\n",
    "            rising_factorials.append(sp.RisingFactorial(i, k))\n",
    "        \n",
    "        # Extract the gamma functions\n",
    "        for arg in f.args:\n",
    "            if isinstance(arg, sp.Pow) and arg.base == sp.EulerGamma:\n",
    "                gamma_funcs.append(sp.gamma(arg.exp))\n",
    "    \n",
    "    # Recursively extract hypergeometric parameters, rising factorials, and gamma functions from the arguments of the function\n",
    "    for arg in f.args:\n",
    "        if isinstance(arg, sp.Basic):\n",
    "            params, rf, gamma = extract_hypergeometric_parameters(arg, k_list)\n",
    "            hyper_params += params\n",
    "            rising_factorials += rf\n",
    "            gamma_funcs += gamma\n",
    "    \n",
    "    return hyper_params, rising_factorials, gamma_funcs\n"
   ]
  },
  {
   "cell_type": "code",
   "execution_count": 71,
   "metadata": {},
   "outputs": [
    {
     "name": "stdout",
     "output_type": "stream",
     "text": [
      "Hypergeometric parameters: [[2], [1], [x]]\n",
      "Rising factorials: [RisingFactorial(2, k), factorial(k)]\n",
      "Gamma functions: []\n"
     ]
    }
   ],
   "source": [
    "# Define a hypergeometric function\n",
    "a = 2\n",
    "rational_hyper = sp.hyper([a],[1], x)\n",
    "\n",
    "# Extract hypergeometric parameters, rising factorials, and gamma functions\n",
    "params, rf, gamma = extract_hypergeometric_parameters(rational_hyper)\n",
    "\n",
    "# Print the results\n",
    "print(\"Hypergeometric parameters:\", params)\n",
    "print(\"Rising factorials:\", rf)\n",
    "print(\"Gamma functions:\", gamma)\n"
   ]
  },
  {
   "attachments": {},
   "cell_type": "markdown",
   "metadata": {},
   "source": [
    "una excelente modificacion, pero ahora queremos ser capaces de extraer las cosas que estan multiplcando tambien"
   ]
  },
  {
   "cell_type": "code",
   "execution_count": 74,
   "metadata": {},
   "outputs": [],
   "source": [
    "def extract_hypergeometric_parameters(f, k_list=[]):\n",
    "    # Initialize lists to hold the hypergeometric parameters, rising factorials, and gamma functions\n",
    "    hyper_params = []\n",
    "    rising_factorials = []\n",
    "    gamma_funcs = []\n",
    "    \n",
    "    # Check if the current function is a hypergeometric function\n",
    "    if isinstance(f, sp.functions.special.hyper.hyper):\n",
    "        # Choose a symbol from the k_list for this hypergeometric function\n",
    "        k = k_list[0] if len(k_list) > 0 else sp.Symbol('k')\n",
    "        k_list = k_list[1:] if len(k_list) > 0 else k_list\n",
    "        \n",
    "        # Extract the hypergeometric parameters\n",
    "        for arg in f.args:\n",
    "            if isinstance(arg, (sp.Symbol, sp.Integer)):\n",
    "                hyper_params.append([arg])\n",
    "            elif isinstance(arg, sp.Tuple):\n",
    "                hyper_params.append(list(arg))\n",
    "        \n",
    "        # Extract the rising factorials\n",
    "        for i in f.args[0]:\n",
    "            rising_factorials.append(sp.RisingFactorial(i, k))\n",
    "        for i in f.args[1]:\n",
    "            rising_factorials.append(sp.RisingFactorial(i, k))\n",
    "        \n",
    "        # Extract the gamma functions\n",
    "        for arg in f.args:\n",
    "            if isinstance(arg, sp.Pow) and arg.base == sp.EulerGamma:\n",
    "                gamma_funcs.append(sp.gamma(arg.exp))\n",
    "    \n",
    "    # Check if the current function is a gamma function with a summand\n",
    "    elif isinstance(f, sp.Mul):\n",
    "        for arg in f.args:\n",
    "            if isinstance(arg, sp.Pow) and arg.base == sp.gamma:\n",
    "                if arg.exp.is_Add:\n",
    "                    for a in arg.exp.args:\n",
    "                        gamma_funcs.append(sp.gamma(a))\n",
    "                elif arg.exp.is_Mul:\n",
    "                    gamma_funcs.append(sp.gamma(arg.exp))\n",
    "            elif isinstance(arg, sp.Pow) and arg.base == sp.Pochhammer:\n",
    "                if arg.exp.is_Add:\n",
    "                    for a in arg.exp.args:\n",
    "                        rising_factorials.append(sp.RisingFactorial(arg.base.args[0], a))\n",
    "                elif arg.exp.is_Mul:\n",
    "                    rising_factorials.append(sp.RisingFactorial(arg.base.args[0], arg.exp))\n",
    "    \n",
    "    # Recursively extract hypergeometric parameters, rising factorials, and gamma functions from the arguments of the function\n",
    "    for arg in f.args:\n",
    "        if isinstance(arg, sp.Basic):\n",
    "            params, rf, gamma = extract_hypergeometric_parameters(arg, k_list)\n",
    "            hyper_params += params\n",
    "            rising_factorials += rf\n",
    "            gamma_funcs += gamma\n",
    "    \n",
    "    return hyper_params, rising_factorials, gamma_funcs\n",
    "\n"
   ]
  },
  {
   "cell_type": "code",
   "execution_count": 75,
   "metadata": {},
   "outputs": [
    {
     "name": "stdout",
     "output_type": "stream",
     "text": [
      "Hypergeometric parameters: [[2], [1], [x]]\n",
      "Rising factorials: [RisingFactorial(2, k), factorial(k)]\n",
      "Gamma functions: []\n"
     ]
    }
   ],
   "source": [
    "a = 2\n",
    "rational_hyper = sp.hyper([a],[1], x) * sp.gamma(x)\n",
    "\n",
    "# Extract hypergeometric parameters, rising factorials, and gamma functions\n",
    "params, rf, gamma = extract_hypergeometric_parameters(rational_hyper)\n",
    "\n",
    "# Print the results\n",
    "print(\"Hypergeometric parameters:\", params)\n",
    "print(\"Rising factorials:\", rf)\n",
    "print(\"Gamma functions:\", gamma)\n",
    "\n",
    "\n",
    "# no entrega las gammas correctamente\n"
   ]
  },
  {
   "attachments": {},
   "cell_type": "markdown",
   "metadata": {},
   "source": [
    "### dado otro intento"
   ]
  },
  {
   "cell_type": "code",
   "execution_count": 76,
   "metadata": {},
   "outputs": [],
   "source": [
    "def extract_hypergeometric_parameters(f, k_list=[]):\n",
    "    # Initialize lists to hold the hypergeometric parameters, rising factorials, and gamma functions\n",
    "    hyper_params = []\n",
    "    rising_factorials = []\n",
    "    gamma_funcs = []\n",
    "    \n",
    "    # Check if the current function is a hypergeometric function\n",
    "    if isinstance(f, sp.functions.special.hyper.hyper):\n",
    "        # Choose a symbol from the k_list for this hypergeometric function\n",
    "        k = k_list[0] if len(k_list) > 0 else sp.Symbol('k')\n",
    "        k_list = k_list[1:] if len(k_list) > 0 else k_list\n",
    "        \n",
    "        # Extract the hypergeometric parameters\n",
    "        for arg in f.args:\n",
    "            if isinstance(arg, (sp.Symbol, sp.Integer)):\n",
    "                hyper_params.append([arg])\n",
    "            elif isinstance(arg, sp.Tuple):\n",
    "                hyper_params.append(list(arg))\n",
    "        \n",
    "        # Extract the rising factorials\n",
    "        for i in f.args[0]:\n",
    "            rising_factorials.append(sp.RisingFactorial(i, k))\n",
    "        for i in f.args[1]:\n",
    "            rising_factorials.append(sp.RisingFactorial(i, k))\n",
    "        \n",
    "        # Extract the gamma functions\n",
    "        for arg in f.args:\n",
    "            if isinstance(arg, sp.Pow) and arg.base == sp.EulerGamma:\n",
    "                gamma_funcs.append(sp.gamma(arg.exp))\n",
    "            elif isinstance(arg, sp.Pow):\n",
    "                base, exp = arg.as_base_exp()\n",
    "                if base == k and isinstance(exp, sp.Symbol):\n",
    "                    gamma_funcs.append(sp.gamma(exp))\n",
    "    \n",
    "    # Recursively extract hypergeometric parameters, rising factorials, and gamma functions from the arguments of the function\n",
    "    for arg in f.args:\n",
    "        if isinstance(arg, sp.Basic):\n",
    "            params, rf, gamma = extract_hypergeometric_parameters(arg, k_list)\n",
    "            hyper_params += params\n",
    "            rising_factorials += rf\n",
    "            gamma_funcs += gamma\n",
    "    \n",
    "    return hyper_params, rising_factorials, gamma_funcs\n"
   ]
  },
  {
   "cell_type": "code",
   "execution_count": 77,
   "metadata": {},
   "outputs": [
    {
     "name": "stdout",
     "output_type": "stream",
     "text": [
      "Hypergeometric parameters: [[2], [1], [x]]\n",
      "Rising factorials: [RisingFactorial(2, k), factorial(k)]\n",
      "Gamma functions: []\n"
     ]
    }
   ],
   "source": [
    "a = 2\n",
    "rational_hyper = sp.hyper([a],[1], x) * sp.gamma(x)\n",
    "\n",
    "# Extract hypergeometric parameters, rising factorials, and gamma functions\n",
    "params, rf, gamma = extract_hypergeometric_parameters(rational_hyper)\n",
    "\n",
    "# Print the results\n",
    "print(\"Hypergeometric parameters:\", params)\n",
    "print(\"Rising factorials:\", rf)\n",
    "print(\"Gamma functions:\", gamma)\n",
    "\n",
    "\n",
    "# no entrega las gammas correctamente\n"
   ]
  },
  {
   "attachments": {},
   "cell_type": "markdown",
   "metadata": {},
   "source": [
    "### 3er intento"
   ]
  },
  {
   "cell_type": "code",
   "execution_count": 78,
   "metadata": {},
   "outputs": [],
   "source": [
    "def extract_hypergeometric_parameters(f, k_list=[]):\n",
    "    # Initialize lists to hold the hypergeometric parameters, rising factorials, and gamma functions\n",
    "    hyper_params = []\n",
    "    rising_factorials = []\n",
    "    gamma_funcs = []\n",
    "\n",
    "    # Check if the current function is a hypergeometric function\n",
    "    if isinstance(f, sp.functions.special.hyper.hyper):\n",
    "        # Choose a symbol from the k_list for this hypergeometric function\n",
    "        k = k_list[0] if len(k_list) > 0 else sp.Symbol('k')\n",
    "        k_list = k_list[1:] if len(k_list) > 0 else k_list\n",
    "\n",
    "        # Extract the hypergeometric parameters\n",
    "        for arg in f.args:\n",
    "            if isinstance(arg, (sp.Symbol, sp.Integer)):\n",
    "                hyper_params.append([arg])\n",
    "            elif isinstance(arg, sp.Tuple):\n",
    "                hyper_params.append(list(arg))\n",
    "\n",
    "        # Extract the rising factorials\n",
    "        for i in f.args[0]:\n",
    "            rising_factorials.append(sp.RisingFactorial(i, k))\n",
    "        for i in f.args[1]:\n",
    "            rising_factorials.append(sp.RisingFactorial(i, k))\n",
    "\n",
    "        # Extract the gamma functions\n",
    "        for arg in f.args:\n",
    "            if isinstance(arg, sp.Pow) and arg.base == sp.EulerGamma:\n",
    "                gamma_funcs.append(sp.gamma(arg.exp))\n",
    "            elif isinstance(arg, sp.Mul):\n",
    "                gamma_terms = [term for term in arg.args if isinstance(term, sp.Pow) and term.base == sp.EulerGamma]\n",
    "                if len(gamma_terms) > 0:\n",
    "                    gamma_product = sp.Mul(*[sp.gamma(term.exp) for term in gamma_terms])\n",
    "                    gamma_funcs.append(gamma_product)\n",
    "\n",
    "    # Recursively extract hypergeometric parameters, rising factorials, and gamma functions from the arguments of the function\n",
    "    for arg in f.args:\n",
    "        if isinstance(arg, sp.Basic):\n",
    "            params, rf, gamma = extract_hypergeometric_parameters(arg, k_list)\n",
    "            hyper_params += params\n",
    "            rising_factorials += rf\n",
    "            gamma_funcs += gamma\n",
    "\n",
    "    return hyper_params, rising_factorials, gamma_funcs\n"
   ]
  },
  {
   "cell_type": "code",
   "execution_count": 82,
   "metadata": {},
   "outputs": [
    {
     "name": "stdout",
     "output_type": "stream",
     "text": [
      "Hypergeometric parameters: [[2], [1], [x]]\n",
      "Rising factorials: [RisingFactorial(2, k), factorial(k)]\n",
      "Gamma functions: []\n"
     ]
    }
   ],
   "source": [
    "a = 2\n",
    "rational_hyper = sp.hyper([a],[1], x) * sp.gamma(x)\n",
    "f = rational_hyper\n",
    "\n",
    "# Extract hypergeometric parameters, rising factorials, and gamma functions\n",
    "params, rf, gamma = extract_hypergeometric_parameters(f)\n",
    "\n",
    "# Print the results\n",
    "print(\"Hypergeometric parameters:\", params)\n",
    "print(\"Rising factorials:\", rf)\n",
    "print(\"Gamma functions:\", gamma)\n"
   ]
  },
  {
   "cell_type": "code",
   "execution_count": 85,
   "metadata": {},
   "outputs": [
    {
     "name": "stdout",
     "output_type": "stream",
     "text": [
      "gamma(x)\n",
      "True\n",
      "([], [], [])\n",
      "hyper((2,), (1,), x)\n",
      "True\n",
      "([[2], [1], [x]], [RisingFactorial(2, k), factorial(k)], [])\n"
     ]
    }
   ],
   "source": [
    "for arg in f.args:\n",
    "    print(arg)\n",
    "    print(isinstance(arg, sp.Basic))\n",
    "\n",
    "    print(extract_hypergeometric_parameters(arg, []))"
   ]
  },
  {
   "attachments": {},
   "cell_type": "markdown",
   "metadata": {},
   "source": [
    "### exp 4\n",
    "despues de explicar lo anterior, se procede a crear este codigo:"
   ]
  },
  {
   "cell_type": "code",
   "execution_count": 88,
   "metadata": {},
   "outputs": [
    {
     "name": "stdout",
     "output_type": "stream",
     "text": [
      "Hypergeometric parameters: [(2,), (1,), x]\n",
      "Rising factorials: [1, 1]\n",
      "Gamma functions: [gamma(x)]\n"
     ]
    }
   ],
   "source": [
    "import sympy as sp\n",
    "\n",
    "def extract_hypergeometric_parameters(expr, params):\n",
    "    rf = []\n",
    "    gamma = []\n",
    "    for arg in expr.args:\n",
    "        if isinstance(arg, sp.gamma):\n",
    "            gamma.append(arg)\n",
    "        elif isinstance(arg, sp.hyper):\n",
    "            a, b, z = arg.args\n",
    "            params.append(a)\n",
    "            params.append(b)\n",
    "            params.append(z)\n",
    "            for i in range(len(a)):\n",
    "                rf.append(sp.RisingFactorial(a[i], i))\n",
    "            for i in range(len(b)):\n",
    "                rf.append(sp.factorial(b[i]-1))\n",
    "        elif arg.args:\n",
    "            extract_hypergeometric_parameters(arg, params)\n",
    "    return params, rf, gamma\n",
    "\n",
    "a = 2\n",
    "rational_hyper = sp.hyper([a], [1], x) * sp.gamma(x)\n",
    "\n",
    "params, rf, gamma = extract_hypergeometric_parameters(rational_hyper, [])\n",
    "print(\"Hypergeometric parameters:\", params)\n",
    "print(\"Rising factorials:\", rf)\n",
    "print(\"Gamma functions:\", gamma)\n",
    "\n"
   ]
  },
  {
   "attachments": {},
   "cell_type": "markdown",
   "metadata": {},
   "source": [
    "## exp 5"
   ]
  },
  {
   "cell_type": "code",
   "execution_count": 89,
   "metadata": {},
   "outputs": [],
   "source": [
    "def extract_hypergeometric_parameters(f):\n",
    "    hyper_params = []\n",
    "    rising_factorials = []\n",
    "    gamma_functions = []\n",
    "\n",
    "    # Extract the arguments of the hypergeometric function\n",
    "    hyper_args = f.args[0]\n",
    "\n",
    "    # Extract the hypergeometric parameters\n",
    "    for i in range(len(hyper_args)):\n",
    "        if isinstance(hyper_args[i], tuple):\n",
    "            hyper_params.append(list(hyper_args[i]))\n",
    "\n",
    "    # Extract the rising factorials\n",
    "    for i in f.args[0]:\n",
    "        if isinstance(i, sp.core.function.RisingFactorial):\n",
    "            rising_factorials.append(i)\n",
    "\n",
    "    # Extract the gamma functions\n",
    "    for arg in f.args:\n",
    "        if isinstance(arg, sp.core.function.gamma):\n",
    "            gamma_functions.append(arg)\n",
    "\n",
    "    return hyper_params, rising_factorials, gamma_functions\n",
    "\n"
   ]
  },
  {
   "cell_type": "code",
   "execution_count": 90,
   "metadata": {},
   "outputs": [
    {
     "ename": "TypeError",
     "evalue": "object of type 'gamma' has no len()",
     "output_type": "error",
     "traceback": [
      "\u001b[1;31m---------------------------------------------------------------------------\u001b[0m",
      "\u001b[1;31mTypeError\u001b[0m                                 Traceback (most recent call last)",
      "\u001b[1;32m~\\AppData\\Local\\Temp\\ipykernel_11260\\582056046.py\u001b[0m in \u001b[0;36m<module>\u001b[1;34m\u001b[0m\n\u001b[0;32m      3\u001b[0m \u001b[1;33m\u001b[0m\u001b[0m\n\u001b[0;32m      4\u001b[0m \u001b[1;31m# Extract hypergeometric parameters, rising factorials, and gamma functions\u001b[0m\u001b[1;33m\u001b[0m\u001b[1;33m\u001b[0m\u001b[0m\n\u001b[1;32m----> 5\u001b[1;33m \u001b[0mparams\u001b[0m\u001b[1;33m,\u001b[0m \u001b[0mrf\u001b[0m\u001b[1;33m,\u001b[0m \u001b[0mgamma\u001b[0m \u001b[1;33m=\u001b[0m \u001b[0mextract_hypergeometric_parameters\u001b[0m\u001b[1;33m(\u001b[0m\u001b[0mrational_hyper\u001b[0m\u001b[1;33m)\u001b[0m\u001b[1;33m\u001b[0m\u001b[1;33m\u001b[0m\u001b[0m\n\u001b[0m\u001b[0;32m      6\u001b[0m \u001b[1;33m\u001b[0m\u001b[0m\n\u001b[0;32m      7\u001b[0m \u001b[1;31m# Print the results\u001b[0m\u001b[1;33m\u001b[0m\u001b[1;33m\u001b[0m\u001b[0m\n",
      "\u001b[1;32m~\\AppData\\Local\\Temp\\ipykernel_11260\\2735534011.py\u001b[0m in \u001b[0;36mextract_hypergeometric_parameters\u001b[1;34m(f)\u001b[0m\n\u001b[0;32m      8\u001b[0m \u001b[1;33m\u001b[0m\u001b[0m\n\u001b[0;32m      9\u001b[0m     \u001b[1;31m# Extract the hypergeometric parameters\u001b[0m\u001b[1;33m\u001b[0m\u001b[1;33m\u001b[0m\u001b[0m\n\u001b[1;32m---> 10\u001b[1;33m     \u001b[1;32mfor\u001b[0m \u001b[0mi\u001b[0m \u001b[1;32min\u001b[0m \u001b[0mrange\u001b[0m\u001b[1;33m(\u001b[0m\u001b[0mlen\u001b[0m\u001b[1;33m(\u001b[0m\u001b[0mhyper_args\u001b[0m\u001b[1;33m)\u001b[0m\u001b[1;33m)\u001b[0m\u001b[1;33m:\u001b[0m\u001b[1;33m\u001b[0m\u001b[1;33m\u001b[0m\u001b[0m\n\u001b[0m\u001b[0;32m     11\u001b[0m         \u001b[1;32mif\u001b[0m \u001b[0misinstance\u001b[0m\u001b[1;33m(\u001b[0m\u001b[0mhyper_args\u001b[0m\u001b[1;33m[\u001b[0m\u001b[0mi\u001b[0m\u001b[1;33m]\u001b[0m\u001b[1;33m,\u001b[0m \u001b[0mtuple\u001b[0m\u001b[1;33m)\u001b[0m\u001b[1;33m:\u001b[0m\u001b[1;33m\u001b[0m\u001b[1;33m\u001b[0m\u001b[0m\n\u001b[0;32m     12\u001b[0m             \u001b[0mhyper_params\u001b[0m\u001b[1;33m.\u001b[0m\u001b[0mappend\u001b[0m\u001b[1;33m(\u001b[0m\u001b[0mlist\u001b[0m\u001b[1;33m(\u001b[0m\u001b[0mhyper_args\u001b[0m\u001b[1;33m[\u001b[0m\u001b[0mi\u001b[0m\u001b[1;33m]\u001b[0m\u001b[1;33m)\u001b[0m\u001b[1;33m)\u001b[0m\u001b[1;33m\u001b[0m\u001b[1;33m\u001b[0m\u001b[0m\n",
      "\u001b[1;31mTypeError\u001b[0m: object of type 'gamma' has no len()"
     ]
    }
   ],
   "source": [
    "a = 2\n",
    "rational_hyper = sp.hyper([a],[1], x) * sp.gamma(x)\n",
    "\n",
    "# Extract hypergeometric parameters, rising factorials, and gamma functions\n",
    "params, rf, gamma = extract_hypergeometric_parameters(rational_hyper)\n",
    "\n",
    "# Print the results\n",
    "print(\"Hypergeometric parameters:\", params)\n",
    "print(\"Rising factorials:\", rf)\n",
    "print(\"Gamma functions:\", gamma)\n"
   ]
  },
  {
   "attachments": {},
   "cell_type": "markdown",
   "metadata": {},
   "source": [
    "## exp6 \n",
    "explaining if functions to extract parameters"
   ]
  },
  {
   "cell_type": "code",
   "execution_count": 101,
   "metadata": {},
   "outputs": [
    {
     "name": "stdout",
     "output_type": "stream",
     "text": [
      "gamma(x)\n",
      "hyper((2,), (1,), x)\n",
      "Hypergeometric parameters: [(2,), (1,), x]\n",
      "Gamma functions: [gamma(x)]\n",
      "Rising factorials: [RisingFactorial(2, k), factorial(k)]\n"
     ]
    }
   ],
   "source": [
    "expr = sp.hyper([2], [1], x) * sp.gamma(x)\n",
    "\n",
    "# we will work with 1 hypergeometric function at a time, so we can use a single k here, to avoid confussion\n",
    "\n",
    "gamma = [] # gamma functions\n",
    "params = [] # (a,), (b,), z\n",
    "rf = [] # rising factorials\n",
    "\n",
    "for arg in expr.args: # gets gamma and hyper\n",
    "    print(arg)\n",
    "    if isinstance(arg, sp.gamma): # checks gamma\n",
    "        gamma.append(arg)\n",
    "    elif isinstance(arg, sp.hyper):\n",
    "        a, b, z = arg.args # get args from hyper\n",
    "        params.append(a)\n",
    "        params.append(b)\n",
    "        params.append(z)\n",
    "        # here we get the rising factorials\n",
    "        for i in range(len(a)):\n",
    "            rf.append(sp.RisingFactorial(a[i], k)) # right way to do it\n",
    "        for i in range(len(b)):\n",
    "            rf.append(sp.RisingFactorial(b[i], k)) # I did some changes\n",
    "    \n",
    "    #elif arg.args: # you wrote this, but I don't understand why you need it\n",
    "    #   extract_hypergeometric_parameters(arg, params)\n",
    "\n",
    "    \n",
    "\n",
    "print(\"Hypergeometric parameters:\", params)\n",
    "print(\"Gamma functions:\", gamma)\n",
    "print(\"Rising factorials:\", rf)\n"
   ]
  },
  {
   "attachments": {},
   "cell_type": "markdown",
   "metadata": {},
   "source": [
    "despues de explicar, la IA lo reescribio así:"
   ]
  },
  {
   "cell_type": "code",
   "execution_count": 102,
   "metadata": {},
   "outputs": [
    {
     "name": "stdout",
     "output_type": "stream",
     "text": [
      "Hypergeometric parameters: [(2,), (1,), x]\n",
      "Rising factorials: [RisingFactorial(2, k), factorial(k)]\n",
      "Gamma functions: [gamma(x)]\n"
     ]
    }
   ],
   "source": [
    "import sympy as sp\n",
    "\n",
    "# Define a rational hypergeometric expression\n",
    "rational_hyper = sp.hyper([2], [1], x) * sp.gamma(x)\n",
    "\n",
    "# Define a function to extract the hypergeometric parameters\n",
    "def extract_hypergeometric_parameters(f):\n",
    "    hyper_params = []\n",
    "    rising_factorials = []\n",
    "    gamma_functions = []\n",
    "\n",
    "    for arg in f.args:\n",
    "        if isinstance(arg, sp.gamma):\n",
    "            gamma_functions.append(arg)\n",
    "        elif isinstance(arg, sp.hyper):\n",
    "            hyper_args = arg.args\n",
    "            a = hyper_args[0]\n",
    "            b = hyper_args[1]\n",
    "            z = hyper_args[2]\n",
    "            hyper_params.append(a)\n",
    "            hyper_params.append(b)\n",
    "            hyper_params.append(z)\n",
    "            for i in range(len(a)):\n",
    "                rising_factorials.append(sp.RisingFactorial(a[i], k))\n",
    "            for i in range(len(b)):\n",
    "                rising_factorials.append(sp.RisingFactorial(b[i], k))\n",
    "\n",
    "    return hyper_params, rising_factorials, gamma_functions\n",
    "\n",
    "# Extract hypergeometric parameters, rising factorials, and gamma functions\n",
    "params, rf, gamma = extract_hypergeometric_parameters(rational_hyper)\n",
    "\n",
    "# Print the results\n",
    "print(\"Hypergeometric parameters:\", params)\n",
    "print(\"Rising factorials:\", rf)\n",
    "print(\"Gamma functions:\", gamma)\n"
   ]
  },
  {
   "cell_type": "code",
   "execution_count": null,
   "metadata": {},
   "outputs": [],
   "source": []
  }
 ],
 "metadata": {
  "kernelspec": {
   "display_name": "base",
   "language": "python",
   "name": "python3"
  },
  "language_info": {
   "codemirror_mode": {
    "name": "ipython",
    "version": 3
   },
   "file_extension": ".py",
   "mimetype": "text/x-python",
   "name": "python",
   "nbconvert_exporter": "python",
   "pygments_lexer": "ipython3",
   "version": "3.9.13"
  },
  "orig_nbformat": 4,
  "vscode": {
   "interpreter": {
    "hash": "ad2bdc8ecc057115af97d19610ffacc2b4e99fae6737bb82f5d7fb13d2f2c186"
   }
  }
 },
 "nbformat": 4,
 "nbformat_minor": 2
}
