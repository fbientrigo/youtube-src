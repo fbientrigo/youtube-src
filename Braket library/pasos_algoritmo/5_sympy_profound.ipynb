{
 "cells": [
  {
   "attachments": {},
   "cell_type": "markdown",
   "metadata": {},
   "source": [
    "# Sympy en profundidad\n",
    "Sympy provee de tantas herramientas que siempre hay impresion cada vez que se nombra una funcion, \n",
    "\n",
    "Exploraremos en este notebook:\n",
    "- Symbols\n",
    "- Rewriting (util para reescribir terminos en otros, idealmente braket deberia inyectarse en este medio)\n",
    "- Integrals\n",
    "- Hypergeometrics"
   ]
  },
  {
   "cell_type": "code",
   "execution_count": 10,
   "metadata": {},
   "outputs": [],
   "source": [
    "import sympy as sp"
   ]
  },
  {
   "attachments": {},
   "cell_type": "markdown",
   "metadata": {},
   "source": [
    "# Symbols\n",
    "- `Dummy` \n",
    "- "
   ]
  },
  {
   "attachments": {},
   "cell_type": "markdown",
   "metadata": {},
   "source": [
    "`Dummy: class sympy.core.symbol.Dummy`\n",
    "cada definicion es unica, por tanto no hay choques si tenemos dos dummy index llamados `i`"
   ]
  },
  {
   "cell_type": "code",
   "execution_count": 11,
   "metadata": {},
   "outputs": [
    {
     "name": "stdout",
     "output_type": "stream",
     "text": [
      "<class 'sympy.core.symbol.Dummy'>\n"
     ]
    },
    {
     "data": {
      "text/plain": [
       "False"
      ]
     },
     "execution_count": 11,
     "metadata": {},
     "output_type": "execute_result"
    }
   ],
   "source": [
    "print(sp.Dummy) # shortcut\n",
    "\n",
    "j = sp.Dummy(\"j\")\n",
    "j == sp.Dummy(\"j\") # comparandolo a una nueva instancia"
   ]
  },
  {
   "attachments": {},
   "cell_type": "markdown",
   "metadata": {},
   "source": [
    "`var: sympy.core.symbol.var` crea un simbolo y lo inyecta al global, de manera que puede ser accedido en cualquier lugar.\n",
    "\n",
    "Es recomendado utilizar `symbols()` en librerias, para no importar variables inesperadas al scope global"
   ]
  },
  {
   "cell_type": "code",
   "execution_count": 20,
   "metadata": {},
   "outputs": [
    {
     "name": "stdout",
     "output_type": "stream",
     "text": [
      "x\n",
      "(x0, x1, x2, x3, x4, x5, x6, x7, x8, x9)\n",
      "(x, y, z)\n",
      "(x01, x02, x11, x12)\n"
     ]
    }
   ],
   "source": [
    "x, y = sp.symbols('x y')\n",
    "print(x)\n",
    "# rangos\n",
    "print(sp.symbols('x:10'))\n",
    "print(sp.symbols('x:z'))\n",
    "# multiples rangos\n",
    "print(sp.symbols('x:2(1:3)'))"
   ]
  },
  {
   "cell_type": "code",
   "execution_count": 28,
   "metadata": {},
   "outputs": [],
   "source": [
    "# es posible crear instancias de clases generales\n",
    "f,g,h = sp.symbols('f:h', cls=sp.Function)\n",
    "\n",
    "# tambien agregar o quitar la conmutatividad, que viene True por default\n",
    "A, B = sp.symbols('A:B', conmutative=False)"
   ]
  },
  {
   "attachments": {},
   "cell_type": "markdown",
   "metadata": {},
   "source": [
    "# Rewriting\n"
   ]
  },
  {
   "cell_type": "code",
   "execution_count": 31,
   "metadata": {},
   "outputs": [
    {
     "data": {
      "text/latex": [
       "$\\displaystyle x^{2} - y^{2}$"
      ],
      "text/plain": [
       "x**2 - y**2"
      ]
     },
     "execution_count": 31,
     "metadata": {},
     "output_type": "execute_result"
    }
   ],
   "source": [
    "x, y, z = sp.symbols('x:z')\n",
    "\n",
    "# expansion basica de expresiones\n",
    "((x + y)*(x - y)).expand(basic=True)"
   ]
  },
  {
   "cell_type": "code",
   "execution_count": 30,
   "metadata": {},
   "outputs": [
    {
     "data": {
      "text/latex": [
       "$\\displaystyle x^{2} + 2 x y + 2 x z + y^{2} + 2 y z + z^{2}$"
      ],
      "text/plain": [
       "x**2 + 2*x*y + 2*x*z + y**2 + 2*y*z + z**2"
      ]
     },
     "execution_count": 30,
     "metadata": {},
     "output_type": "execute_result"
    }
   ],
   "source": [
    "((x + y + z)**2).expand(basic=True) #basic viene por default, es expandir algebraicamente"
   ]
  },
  {
   "cell_type": "code",
   "execution_count": 38,
   "metadata": {},
   "outputs": [
    {
     "data": {
      "text/latex": [
       "$\\displaystyle \\operatorname{re}{\\left(x\\right)} + i \\operatorname{re}{\\left(y\\right)} + i \\operatorname{im}{\\left(x\\right)} - \\operatorname{im}{\\left(y\\right)}$"
      ],
      "text/plain": [
       "re(x) + I*re(y) + I*im(x) - im(y)"
      ]
     },
     "execution_count": 38,
     "metadata": {},
     "output_type": "execute_result"
    }
   ],
   "source": [
    "# es posible expandir en complejos\n",
    "# notese que aqui no especficiamos si 'x' o 'y' son reales\n",
    "# por ello es una expresion mas larga\n",
    "((x + sp.I * y)).expand(complex=True)"
   ]
  },
  {
   "cell_type": "code",
   "execution_count": 39,
   "metadata": {},
   "outputs": [
    {
     "data": {
      "text/latex": [
       "$\\displaystyle x + i y$"
      ],
      "text/plain": [
       "x + I*y"
      ]
     },
     "execution_count": 39,
     "metadata": {},
     "output_type": "execute_result"
    }
   ],
   "source": [
    "x, y = sp.symbols('x y', real=True)\n",
    "# al haber especificado es mas simple\n",
    "((x + sp.I * y)).expand(complex=True)"
   ]
  },
  {
   "attachments": {},
   "cell_type": "markdown",
   "metadata": {},
   "source": [
    "### common sub expression detection and collection\n",
    "Antes de evaluar algo muy grande, podemos identificar las sub expresiones que se repiten, de manera de solo hacer una evaluacion y luego juntar los calculos\n",
    "\n",
    "`sp.cse()`\n"
   ]
  },
  {
   "cell_type": "code",
   "execution_count": 48,
   "metadata": {},
   "outputs": [
    {
     "data": {
      "text/latex": [
       "$\\displaystyle \\sqrt{\\sqrt{\\sin{\\left(x \\right)}} + \\sin{\\left(x \\right)}}$"
      ],
      "text/plain": [
       "sqrt(sqrt(sin(x)) + sin(x))"
      ]
     },
     "execution_count": 48,
     "metadata": {},
     "output_type": "execute_result"
    }
   ],
   "source": [
    "expr1 = sp.sqrt( sp.sin(x) + sp.sqrt(sp.sin(x)) ) # tengamos esta expresion\n",
    "expr1"
   ]
  },
  {
   "cell_type": "code",
   "execution_count": 49,
   "metadata": {},
   "outputs": [
    {
     "data": {
      "text/plain": [
       "([(x0, sin(x))], [sqrt(sqrt(x0) + x0)])"
      ]
     },
     "execution_count": 49,
     "metadata": {},
     "output_type": "execute_result"
    }
   ],
   "source": [
    "sp.cse(expr1) # junta expresiones comunes"
   ]
  },
  {
   "cell_type": "code",
   "execution_count": 51,
   "metadata": {},
   "outputs": [
    {
     "data": {
      "text/plain": [
       "([(x0, sin(x))], [sqrt(x0 + 4)*sqrt(x0 + 5)])"
      ]
     },
     "execution_count": 51,
     "metadata": {},
     "output_type": "execute_result"
    }
   ],
   "source": [
    "sp.cse( sp.sqrt( sp.sin(x)+5)* sp.sqrt( sp.sin(x)+4))"
   ]
  },
  {
   "attachments": {},
   "cell_type": "markdown",
   "metadata": {},
   "source": [
    "### rewritting using equations\n",
    "permite reescribir condiciones en forma de ecuaciones, sin embargo no es tan poderoso como para poder aplicarse a integrales\n"
   ]
  },
  {
   "cell_type": "code",
   "execution_count": 62,
   "metadata": {},
   "outputs": [
    {
     "data": {
      "text/latex": [
       "$\\displaystyle \\int\\limits_{0}^{\\infty} t^{x - 1} e^{- t}\\, dt$"
      ],
      "text/plain": [
       "Integral(t**(x - 1)*exp(-t), (t, 0, oo))"
      ]
     },
     "execution_count": 62,
     "metadata": {},
     "output_type": "execute_result"
    }
   ],
   "source": [
    "from sympy import *\n",
    "x, t, z = symbols('x t z')\n",
    "\n",
    "# Define the rule for rewriting the Gamma function integral\n",
    "gamma_rule = Equality( Integral(t**(x-1)*exp(-t), (t, 0, oo)), gamma(x))\n",
    "\n",
    "# Create an expression with the Gamma function integral\n",
    "expr = Integral(t**(x-1)*exp(-t), (t, 0, oo))\n",
    "\n",
    "# Rewrite the expression using the Gamma function integral representation\n",
    "rewritten_expr = expr.rewrite(gamma_rule)\n",
    "\n",
    "# Print the result\n",
    "rewritten_expr\n"
   ]
  },
  {
   "cell_type": "code",
   "execution_count": 77,
   "metadata": {},
   "outputs": [
    {
     "data": {
      "text/latex": [
       "$\\displaystyle \\int\\limits_{0}^{\\infty} t^{3 x - 1} e^{- t}\\, dt$"
      ],
      "text/plain": [
       "Integral(t**(3*x - 1)*exp(-t), (t, 0, oo))"
      ]
     },
     "execution_count": 77,
     "metadata": {},
     "output_type": "execute_result"
    }
   ],
   "source": [
    "Integral(t**(3*x-1)*exp(-t), (t, 0, oo)).subs({Integral(t**(x-1)*exp(-t), (t, 0, oo)): gamma(x)})"
   ]
  },
  {
   "cell_type": "code",
   "execution_count": 88,
   "metadata": {},
   "outputs": [
    {
     "data": {
      "text/latex": [
       "$\\displaystyle 2 \\int\\limits_{0}^{\\infty} 4 t^{x - 1} e^{- t}\\, dt$"
      ],
      "text/plain": [
       "2*Integral(4*t**(x - 1)*exp(-t), (t, 0, oo))"
      ]
     },
     "execution_count": 88,
     "metadata": {},
     "output_type": "execute_result"
    }
   ],
   "source": [
    "from sympy import *\n",
    "x, t = symbols('x t')\n",
    "\n",
    "# Define the expression with the Gamma function integral\n",
    "expr = 2*Integral(t**(x-1)*exp(-t) * 4, (t, 0, oo))\n",
    "\n",
    "# Define the rule for rewriting the Gamma function integral\n",
    "gamma_rule = Integral(t**(x-1)*exp(-t), (t, 0, oo)).rewrite(gamma(x)  )\n",
    "\n",
    "# Replace the integral expression with gamma(x)\n",
    "replaced_expr = expr.replace(gamma_rule, gamma)\n",
    "\n",
    "replaced_expr\n"
   ]
  },
  {
   "attachments": {},
   "cell_type": "markdown",
   "metadata": {},
   "source": [
    "### expansion en series\n"
   ]
  },
  {
   "cell_type": "code",
   "execution_count": 66,
   "metadata": {},
   "outputs": [
    {
     "data": {
      "text/latex": [
       "$\\displaystyle x - \\frac{x^{3}}{6} + O\\left(x^{4}\\right)$"
      ],
      "text/plain": [
       "x - x**3/6 + O(x**4)"
      ]
     },
     "execution_count": 66,
     "metadata": {},
     "output_type": "execute_result"
    }
   ],
   "source": [
    "sin(x).series(x, 0, 4)"
   ]
  },
  {
   "cell_type": "code",
   "execution_count": 68,
   "metadata": {},
   "outputs": [
    {
     "data": {
      "text/latex": [
       "$\\displaystyle - \\frac{x^{3}}{6} + x$"
      ],
      "text/plain": [
       "-x**3/6 + x"
      ]
     },
     "execution_count": 68,
     "metadata": {},
     "output_type": "execute_result"
    }
   ],
   "source": [
    "sin(x).series(x, 0, 4).removeO()"
   ]
  },
  {
   "attachments": {},
   "cell_type": "markdown",
   "metadata": {},
   "source": [
    "### Construyendo el Braket"
   ]
  },
  {
   "cell_type": "code",
   "execution_count": 82,
   "metadata": {},
   "outputs": [],
   "source": [
    "from sympy import *\n",
    "\n",
    "class braket(Symbol):\n",
    "    def __new__(cls, argument, **kwargs):\n",
    "        # cls es una referencia a la clase siendo creada\n",
    "        # re escrbimos para nuevos atributos\n",
    "        obj = super().__new__(cls, str(argument), **kwargs)\n",
    "        # el inside es un symbol, se asume generalidad, puede hasta ser un symbol\n",
    "        obj.argument = argument\n",
    "        # print(type(obj.argument)) # quick debugging\n",
    "        return obj\n",
    "\n",
    "    def __str__(self):\n",
    "        return f\"braket({self.argument})\"\n",
    "\n",
    "    \n",
    "    def _latex(self, printer):\n",
    "        \"\"\"\n",
    "        Permite incluir una representacion de printing de latex\n",
    "        \"\"\"\n",
    "        return \"\\\\langle \" + printer._print(self.argument) + \"\\\\rangle \"\n",
    "\n",
    "    def args(self):\n",
    "        # experimental, al correr braket(..).args() se devuelve a si mismo\n",
    "        return (self,)\n",
    "    \n",
    "    #def __mul__(self, other):\n",
    "    #    pass\n",
    "\n",
    "    def solve(self, symbol_to_solve : Symbol, debug_print: bool = False):\n",
    "        \"\"\"\n",
    "        Takes input of a symbol included inside the braket, and returns the solution\n",
    "        \"\"\"\n",
    "        solutions = solve(self.argument, symbol_to_solve)\n",
    "        if debug_print:\n",
    "            print(f'number of solutions: {len(solutions)}')\n",
    "\n",
    "        if len(solutions) == 0:\n",
    "            print('no solutions found')\n",
    "        else:\n",
    "            return solutions[0]\n",
    "\n",
    "    def coefficients(self, symbol : Symbol):\n",
    "        \"\"\"\n",
    "        Returns the coefficients of the symbol inside the braket.\n",
    "        \"\"\"\n",
    "        return self.argument.coeff(symbol)\n",
    "\n",
    "    def modified(self, symbol : Symbol):\n",
    "        \"\"\"\n",
    "        Returns a new braket object with the modified argument as described.\n",
    "        \"\"\"\n",
    "        coeff_n = self.coefficients(symbol)\n",
    "        if coeff_n == 0:\n",
    "            return self\n",
    "        else:\n",
    "            new_arg = self.argument / coeff_n\n",
    "            return coeff_n * braket(new_arg)\n",
    "\n",
    "\n",
    "def get_equations(expresion):\n",
    "    # Extract the equations\n",
    "    equations = []\n",
    "    symbols_in_braket = []\n",
    "\n",
    "    \n",
    "    if isinstance(expresion, braket):\n",
    "        eq = expresion.argument\n",
    "        equations.append(eq) # append as equation\n",
    "\n",
    "        free_symbols = eq.free_symbols #see symbols inside a braket\n",
    "        for symbol in free_symbols: \n",
    "            if symbol not in symbols_in_braket: # add the symbol if not already added\n",
    "                symbols_in_braket.append(symbol)\n",
    "\n",
    "        return {'symbols': symbols_in_braket, 'equations': equations}\n",
    "\n",
    "\n",
    "    if isinstance(expresion, Mul):\n",
    "        for term in expresion.args:\n",
    "            if isinstance(term, braket):\n",
    "                # get the inside of a braket\n",
    "                eq = term.argument\n",
    "                equations.append(eq) # append as equation\n",
    "\n",
    "                free_symbols = eq.free_symbols #see symbols inside a braket\n",
    "                for symbol in free_symbols: \n",
    "                    if symbol not in symbols_in_braket: # add the symbol if not already added\n",
    "                        symbols_in_braket.append(symbol)\n",
    "        return {'symbols': symbols_in_braket, 'equations': equations}\n",
    "\n",
    "\n",
    "\n",
    "\n",
    "def normalize_braket(expresion):\n",
    "    \"\"\"\n",
    "    Not neccesary, the use of going throught every braket and using braket.modified()\n",
    "    but all of this occurs in the use of matrix\n",
    "    \"\"\"\n",
    "    pass\n",
    "\n",
    "\n",
    "\n",
    "def braket_solver(expresion):\n",
    "    \"\"\"\n",
    "    Extracts all equations from the argument of the multibraket.\n",
    "    Returns a list of equations.\n",
    "    \"\"\"\n",
    "    \n",
    "    get_equations(expresion)\n",
    "\n",
    "    return {'symbols': symbols_in_braket, 'equations': equations, 'solutions': solutions}"
   ]
  },
  {
   "cell_type": "code",
   "execution_count": 83,
   "metadata": {},
   "outputs": [
    {
     "data": {
      "text/plain": [
       "(2*n + 1, i + n, gamma(n))"
      ]
     },
     "execution_count": 83,
     "metadata": {},
     "output_type": "execute_result"
    }
   ],
   "source": [
    "n,i = symbols('n i')\n",
    "\n",
    "multibraket = braket(2*n + 1) * braket(n + i) * gamma(n)\n",
    "multibraket.args"
   ]
  },
  {
   "cell_type": "code",
   "execution_count": 17,
   "metadata": {},
   "outputs": [
    {
     "data": {
      "text/latex": [
       "$\\displaystyle 2 \\langle n + \\frac{1}{2}\\rangle $"
      ],
      "text/plain": [
       "2*n + 1/2"
      ]
     },
     "execution_count": 17,
     "metadata": {},
     "output_type": "execute_result"
    }
   ],
   "source": [
    "n = Symbol('n')\n",
    "b2n1 = braket(2*n + 1)\n",
    "b2n1.solve(n)\n",
    "\n",
    "b2n1\n",
    "\n",
    "b2n1.modified(n)"
   ]
  },
  {
   "attachments": {},
   "cell_type": "markdown",
   "metadata": {},
   "source": [
    "### Como se resuelve varios brakets?\n",
    "- usar algebra lineal de maner que se tenga\n",
    "$$\n",
    "\\sum_{i,j,\\dots} \\phi_{i,j,\\dots} \\langle i \\rangle \\langle j \\rangle\\dots =\\frac{1}{|J|} \\Gamma(-n_i) \\Gamma(-n_j) \\dots |_{ J = \\vec 0 }\n",
    "$$\n",
    "por hacer en esto:\n",
    "- [ ] construir el extractor de ecuaciones\n",
    "- [ ] reemplazador de brakets utilizando el braket solver, (suma, phi, braket) -> gamma\n"
   ]
  },
  {
   "cell_type": "code",
   "execution_count": null,
   "metadata": {},
   "outputs": [],
   "source": []
  }
 ],
 "metadata": {
  "kernelspec": {
   "display_name": "base",
   "language": "python",
   "name": "python3"
  },
  "language_info": {
   "codemirror_mode": {
    "name": "ipython",
    "version": 3
   },
   "file_extension": ".py",
   "mimetype": "text/x-python",
   "name": "python",
   "nbconvert_exporter": "python",
   "pygments_lexer": "ipython3",
   "version": "3.9.13"
  },
  "orig_nbformat": 4
 },
 "nbformat": 4,
 "nbformat_minor": 2
}
