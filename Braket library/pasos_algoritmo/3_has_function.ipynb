{
 "cells": [
  {
   "cell_type": "code",
   "execution_count": 1,
   "metadata": {},
   "outputs": [
    {
     "name": "stdout",
     "output_type": "stream",
     "text": [
      "True\n",
      "False\n"
     ]
    }
   ],
   "source": [
    "import sympy as sp\n",
    "\n",
    "x, y, z = sp.symbols('x y z')\n",
    "\n",
    "expr = sp.exp(x) * sp.sin(y) / (z - 1)\n",
    "print(expr.has(sp.sin(y))) # True\n",
    "print(expr.has(sp.tan(y))) # False\n",
    "\n"
   ]
  },
  {
   "cell_type": "code",
   "execution_count": 4,
   "metadata": {},
   "outputs": [],
   "source": [
    "def has(expr, subexpr):\n",
    "    if expr.has(subexpr):\n",
    "        return subexpr, expr.subs(subexpr, 1)\n",
    "    else:\n",
    "        print(\"sub expression not found, returning 1\")\n",
    "        return 1, expr\n"
   ]
  },
  {
   "cell_type": "code",
   "execution_count": 5,
   "metadata": {},
   "outputs": [
    {
     "data": {
      "text/plain": [
       "(sin(y), exp(x)/(z - 1))"
      ]
     },
     "execution_count": 5,
     "metadata": {},
     "output_type": "execute_result"
    }
   ],
   "source": [
    "has(expr, sp.sin(y)) # (sin(y), exp(x)*subexpr/(z - 1)"
   ]
  },
  {
   "attachments": {},
   "cell_type": "markdown",
   "metadata": {},
   "source": [
    "### isinstance\n",
    "es posible evaluar si nos encontramos frente a una suma"
   ]
  },
  {
   "cell_type": "code",
   "execution_count": 9,
   "metadata": {},
   "outputs": [
    {
     "data": {
      "text/plain": [
       "False"
      ]
     },
     "execution_count": 9,
     "metadata": {},
     "output_type": "execute_result"
    }
   ],
   "source": [
    "expr2 = sp.exp(x) * sp.sin(y) / (z - 1)\n",
    "isinstance(expr, sp.Add)"
   ]
  },
  {
   "cell_type": "code",
   "execution_count": 10,
   "metadata": {},
   "outputs": [
    {
     "data": {
      "text/plain": [
       "True"
      ]
     },
     "execution_count": 10,
     "metadata": {},
     "output_type": "execute_result"
    }
   ],
   "source": [
    "expr2 = sp.exp(x) * sp.sin(y) / (z - 1) + sp.cos(y) - 2\n",
    "isinstance(expr2, sp.Add)"
   ]
  },
  {
   "attachments": {},
   "cell_type": "markdown",
   "metadata": {},
   "source": [
    "este has permite que podamos reemplazar por 0 aquella sub expresion"
   ]
  },
  {
   "cell_type": "code",
   "execution_count": null,
   "metadata": {},
   "outputs": [],
   "source": [
    "def has(expr, subexpr):\n",
    "    if expr.has(subexpr):\n",
    "        if isinstance(expr, sp.Add):\n",
    "            # Check if subexpr is present in any of the arguments of the sum\n",
    "            for term in expr.args:\n",
    "                if term.has(subexpr):\n",
    "                    return subexpr, expr.subs(subexpr, 0)\n",
    "        return subexpr, expr.subs(subexpr, 1)\n",
    "    else:\n",
    "        print(\"sub expression not found, returning 1\")\n",
    "        return 1, expr\n"
   ]
  },
  {
   "attachments": {},
   "cell_type": "markdown",
   "metadata": {},
   "source": [
    "## Hash tables\n",
    "Debido a que queremos ser capaces de realizar varios reemplazos, pensaba el uso de usar hash's, los cuales son un map unico, de esa manera puedo proceder a simplificar mi expresión y al final reemplazar todo"
   ]
  },
  {
   "cell_type": "code",
   "execution_count": 11,
   "metadata": {},
   "outputs": [],
   "source": [
    "import sympy as sp\n",
    "\n",
    "def replace_expressions(expr, replacements):\n",
    "    symbols = {}\n",
    "    for r in replacements:\n",
    "        sym = sp.symbols(f\"h_{hash(r)}\")\n",
    "        symbols[sym] = r\n",
    "        expr = expr.subs(r, sym)\n",
    "    return expr, symbols\n",
    "\n",
    "def restore_expressions(expr, symbols):\n",
    "    for sym, r in symbols.items():\n",
    "        expr = expr.subs(sym, r)\n",
    "    return expr\n"
   ]
  },
  {
   "cell_type": "code",
   "execution_count": 20,
   "metadata": {},
   "outputs": [
    {
     "name": "stdout",
     "output_type": "stream",
     "text": [
      "h_380231347954038656*sin(y)/(z - 1)\n",
      "{h_380231347954038656: gamma(x), h_-940901527818096228: RisingFactorial(x, y)}\n",
      "sin(y)*gamma(x)/(z - 1)\n"
     ]
    },
    {
     "data": {
      "text/latex": [
       "$\\displaystyle \\frac{\\sin{\\left(y \\right)} \\Gamma\\left(x\\right)}{z - 1}$"
      ],
      "text/plain": [
       "sin(y)*gamma(x)/(z - 1)"
      ]
     },
     "execution_count": 20,
     "metadata": {},
     "output_type": "execute_result"
    }
   ],
   "source": [
    "expr = sp.gamma(x) * sp.sin(y) / (z - 1)\n",
    "replacements = [sp.gamma(x), sp.rf(x, y)]\n",
    "new_expr, symbols = replace_expressions(expr, replacements)\n",
    "print(new_expr)\n",
    "print(symbols)\n",
    "\n",
    "\n",
    "restored_expr = restore_expressions(new_expr, symbols)\n",
    "print(restored_expr)\n",
    "# output: exp(x)*sin(y)/(z - 1) + gamma(x)*rf(x, y)/(z - 1)\n",
    "\n",
    "restored_expr"
   ]
  },
  {
   "cell_type": "code",
   "execution_count": null,
   "metadata": {},
   "outputs": [],
   "source": []
  }
 ],
 "metadata": {
  "kernelspec": {
   "display_name": "base",
   "language": "python",
   "name": "python3"
  },
  "language_info": {
   "codemirror_mode": {
    "name": "ipython",
    "version": 3
   },
   "file_extension": ".py",
   "mimetype": "text/x-python",
   "name": "python",
   "nbconvert_exporter": "python",
   "pygments_lexer": "ipython3",
   "version": "3.9.13"
  },
  "orig_nbformat": 4,
  "vscode": {
   "interpreter": {
    "hash": "ad2bdc8ecc057115af97d19610ffacc2b4e99fae6737bb82f5d7fb13d2f2c186"
   }
  }
 },
 "nbformat": 4,
 "nbformat_minor": 2
}
