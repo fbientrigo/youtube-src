{
 "cells": [
  {
   "attachments": {},
   "cell_type": "markdown",
   "metadata": {},
   "source": [
    "### expresar una suma de pochhammer"
   ]
  },
  {
   "cell_type": "code",
   "execution_count": 18,
   "metadata": {},
   "outputs": [
    {
     "name": "stdout",
     "output_type": "stream",
     "text": [
      "Sum(x**k*RisingFactorial(a, k)/gamma(k + 1), (k, 0, oo))\n"
     ]
    }
   ],
   "source": [
    "import sympy as sp\n",
    "\n",
    "a = sp.symbols('a')\n",
    "k = sp.symbols('k')\n",
    "x = sp.symbols('x')\n",
    "\n",
    "expr = sp.Sum(sp.RisingFactorial(a, k) * x**k / sp.gamma(k+1), (k, 0, sp.oo))\n",
    "\n",
    "print(expr)"
   ]
  },
  {
   "cell_type": "code",
   "execution_count": 9,
   "metadata": {},
   "outputs": [
    {
     "data": {
      "text/latex": [
       "$\\displaystyle \\sum_{k=0}^{\\infty} \\frac{x^{k} {a}^{\\left(k\\right)}}{\\Gamma\\left(k + 1\\right)}$"
      ],
      "text/plain": [
       "Sum(x**k*RisingFactorial(a, k)/gamma(k + 1), (k, 0, oo))"
      ]
     },
     "execution_count": 9,
     "metadata": {},
     "output_type": "execute_result"
    }
   ],
   "source": [
    "expr"
   ]
  },
  {
   "cell_type": "code",
   "execution_count": 14,
   "metadata": {},
   "outputs": [
    {
     "data": {
      "text/latex": [
       "$\\displaystyle {{}_{1}F_{0}\\left(\\begin{matrix} a \\\\  \\end{matrix}\\middle| {x} \\right)}$"
      ],
      "text/plain": [
       "hyper((a,), (), x)"
      ]
     },
     "execution_count": 14,
     "metadata": {},
     "output_type": "execute_result"
    }
   ],
   "source": [
    "sp.hyper([a], [], x)"
   ]
  },
  {
   "attachments": {},
   "cell_type": "markdown",
   "metadata": {},
   "source": [
    "# pasar hyper a sum\n",
    "la idea es poder convertir todas las hipergeometricas en pochhammer y factoriales, de manera que podamos trabajar mejor con ellas, que usando el extract_parameters_v1 que tenemos"
   ]
  },
  {
   "cell_type": "code",
   "execution_count": 19,
   "metadata": {},
   "outputs": [],
   "source": [
    "# ExtractPochhammer(sp.hyper([a], [], x), k)\n",
    "x = sp.symbols('x')\n",
    "f = sp.hyper([a], [1], x)\n",
    "k = sp.Symbol('k')"
   ]
  },
  {
   "cell_type": "code",
   "execution_count": 45,
   "metadata": {},
   "outputs": [],
   "source": [
    "def ExtractPochhammer(f : sp.hyper, k : sp.Symbol):\n",
    "    rising_factorials_denominator = []\n",
    "    rising_factorials_numerator = []\n",
    "\n",
    "    a_ = f.args[0]\n",
    "    b_ = f.args[1]\n",
    "    z_ = f.args[2]\n",
    "\n",
    "    if len(a_) != 0:\n",
    "        for i in range(len(a_)):\n",
    "            rising_factorials_denominator.append(sp.RisingFactorial(a_[i], k))\n",
    "    if len(b_) != 0:\n",
    "        for i in range(len(b_)):\n",
    "            rising_factorials_numerator.append(sp.RisingFactorial(b_[i], k))\n",
    "\n",
    "    return rising_factorials_denominator, rising_factorials_numerator, f.args[2]**k / sp.gamma(k+1)"
   ]
  },
  {
   "cell_type": "code",
   "execution_count": 35,
   "metadata": {},
   "outputs": [
    {
     "name": "stdout",
     "output_type": "stream",
     "text": [
      "[RisingFactorial(a, k)]\n",
      "[factorial(k)]\n"
     ]
    },
    {
     "data": {
      "text/plain": [
       "([RisingFactorial(a, k)], [factorial(k)], x**k/gamma(k + 1))"
      ]
     },
     "execution_count": 35,
     "metadata": {},
     "output_type": "execute_result"
    }
   ],
   "source": [
    "ExtractPochhammer(f, k)"
   ]
  },
  {
   "cell_type": "code",
   "execution_count": 32,
   "metadata": {},
   "outputs": [
    {
     "data": {
      "text/latex": [
       "$\\displaystyle \\frac{x^{k}}{\\Gamma\\left(k + 1\\right)}$"
      ],
      "text/plain": [
       "x**k/gamma(k + 1)"
      ]
     },
     "execution_count": 32,
     "metadata": {},
     "output_type": "execute_result"
    }
   ],
   "source": []
  },
  {
   "attachments": {},
   "cell_type": "markdown",
   "metadata": {},
   "source": [
    "Creamos asi la función para extraer gammas y pochhammers de hipergeoemtricas de simpy, aun no incluye el escribir los RisingFactorials fuera de hipergeometricas\n",
    "\n",
    "[] incluir el caso de RisingFactorials"
   ]
  },
  {
   "cell_type": "code",
   "execution_count": 59,
   "metadata": {},
   "outputs": [
    {
     "name": "stdout",
     "output_type": "stream",
     "text": [
      "Hypergeometric parameters: [[RisingFactorial(a, k), RisingFactorial(2, k)], [factorial(k), RisingFactorial(3, k)], x**k/gamma(k + 1)]\n",
      "Gamma functions: [gamma(x)]\n"
     ]
    }
   ],
   "source": [
    "\n",
    "# Define a function to extract the hypergeometric parameters\n",
    "def ExtractHypergeometricParameters(f,k):\n",
    "    hyper_params = [] # TODO: cambiarse por un diccionario\n",
    "    gamma_functions = [] # TODO: diccionario que sea numerador y denominador\n",
    "\n",
    "    # primer catch, en el caso de que sea un pochhammer\n",
    "    if isinstance(f, sp.hyper):\n",
    "        hyper_params += ExtractPochhammer(f, k)\n",
    "\n",
    "    # aqui va el caso de rising factorials\n",
    "\n",
    "    elif isinstance(f, sp.gamma):\n",
    "        gamma_functions.append(f)\n",
    "    \n",
    "    else:   # en caso de que no sea explorar recursivamente\n",
    "        for arg in f.args: \n",
    "            hy, gamma = ExtractHypergeometricParameters(arg,k)\n",
    "            hyper_params += hy\n",
    "            gamma_functions += gamma\n",
    "\n",
    "    # TODO agregar los hy, gamma a las listas\n",
    "    return hyper_params, gamma_functions\n",
    "\n",
    "\n",
    "# ======================\n",
    "\n",
    "\n",
    "k = sp.symbols('k')\n",
    "f = sp.hyper([a,2], [1,3], x) * sp.gamma(x)\n",
    "\n",
    "params, gamma = ExtractHypergeometricParameters(f,k)\n",
    "\n",
    "# Print the results\n",
    "print(\"Hypergeometric parameters:\", params)\n",
    "print(\"Gamma functions:\", gamma)"
   ]
  },
  {
   "cell_type": "code",
   "execution_count": null,
   "metadata": {},
   "outputs": [],
   "source": []
  }
 ],
 "metadata": {
  "kernelspec": {
   "display_name": "base",
   "language": "python",
   "name": "python3"
  },
  "language_info": {
   "codemirror_mode": {
    "name": "ipython",
    "version": 3
   },
   "file_extension": ".py",
   "mimetype": "text/x-python",
   "name": "python",
   "nbconvert_exporter": "python",
   "pygments_lexer": "ipython3",
   "version": "3.9.13"
  },
  "orig_nbformat": 4,
  "vscode": {
   "interpreter": {
    "hash": "ad2bdc8ecc057115af97d19610ffacc2b4e99fae6737bb82f5d7fb13d2f2c186"
   }
  }
 },
 "nbformat": 4,
 "nbformat_minor": 2
}
